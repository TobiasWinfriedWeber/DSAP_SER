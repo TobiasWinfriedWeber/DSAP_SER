{
  "cells": [
    {
      "cell_type": "markdown",
      "metadata": {
        "id": "view-in-github",
        "colab_type": "text"
      },
      "source": [
        "<a href=\"https://colab.research.google.com/github/TobiasWinfriedWeber/DSAP_SER/blob/main/CNN_repeated_ang.ipynb\" target=\"_parent\"><img src=\"https://colab.research.google.com/assets/colab-badge.svg\" alt=\"Open In Colab\"/></a>"
      ]
    },
    {
      "cell_type": "code",
      "execution_count": 1,
      "metadata": {
        "colab": {
          "base_uri": "https://localhost:8080/"
        },
        "id": "_fKBakYBRIdv",
        "outputId": "f70129d2-5209-48f1-d5cf-16201e6d995a"
      },
      "outputs": [
        {
          "output_type": "stream",
          "name": "stdout",
          "text": [
            "Drive not mounted, so nothing to flush and unmount.\n",
            "Mounted at /content/drive\n"
          ]
        }
      ],
      "source": [
        "# Import basic libraries\n",
        "import matplotlib.pyplot as plt\n",
        "import numpy as np\n",
        "# Mount to drive\n",
        "from google.colab import drive\n",
        "drive.flush_and_unmount()\n",
        "drive.mount(\"/content/drive\")\n",
        "# Import torch\n",
        "import torch\n",
        "import torch.nn as nn\n",
        "import torch.optim as optim\n",
        "import os\n",
        "from scipy.io import wavfile\n",
        "import shutil\n",
        "import csv\n",
        "path = \"/content/drive\" # /content is pretty much the root. you can choose other path in your colab workspace\n",
        "os.chdir(path)\n"
      ]
    },
    {
      "cell_type": "code",
      "execution_count": null,
      "metadata": {
        "colab": {
          "base_uri": "https://localhost:8080/"
        },
        "id": "3AB9N93NikKi",
        "outputId": "45066f3f-e8a5-4cb6-a2d2-7515055d4c71"
      },
      "outputs": [
        {
          "output_type": "stream",
          "name": "stdout",
          "text": [
            "We are using the following device for learning: cpu\n"
          ]
        }
      ],
      "source": [
        "device = 'cuda' if torch.cuda.is_available() else 'cpu'\n",
        "print(\"We are using the following device for learning:\",device)"
      ]
    },
    {
      "cell_type": "code",
      "execution_count": null,
      "metadata": {
        "id": "SHqxm_WJ-HA1"
      },
      "outputs": [],
      "source": [
        "import torch.nn as nn\n",
        "import torch.optim as optim\n",
        "import torch\n",
        "import torchaudio\n",
        "from torch.utils.data import Dataset, DataLoader\n",
        "from torchvision.transforms import Compose\n",
        "import os\n",
        "import pandas as pd\n",
        "from sklearn.model_selection import train_test_split\n",
        "import numpy as np\n",
        "import math\n",
        "\n",
        "class SimpleCNN(nn.Module):\n",
        "    def __init__(self, hidden_neurons, filter_len, filter_shift, maxPoolSize, maxPoolShift):\n",
        "        super(SimpleCNN, self).__init__()\n",
        "        self.outCONVsize = math.floor((80e3 - filter_len) / filter_shift + 1)\n",
        "        self.outMAXPOOLsize = math.floor((self.outCONVsize - maxPoolSize) / maxPoolShift + 1)\n",
        "        print(\"Input size fc: \" + str(self.outMAXPOOLsize))\n",
        "\n",
        "        # Convolutional layer\n",
        "        self.conv1d = nn.Conv1d(in_channels=1, out_channels=1, kernel_size=filter_len, stride=filter_shift)\n",
        "        # Max-pooling layer\n",
        "        self.maxpool = nn.MaxPool1d(kernel_size=maxPoolSize, stride=maxPoolShift)\n",
        "        self.dropout = nn.Dropout(p=0.2)\n",
        "        # Fully connected (linear) layer\n",
        "        self.fc = nn.Linear(self.outMAXPOOLsize, hidden_neurons)\n",
        "        # ReLU activation function for hidden layer\n",
        "        self.relu = nn.ReLU()\n",
        "        # Output layer\n",
        "        self.output_layer = nn.Linear(hidden_neurons, 2)  # Two output classes\n",
        "\n",
        "    def forward(self, x):\n",
        "        # Convolutional layer\n",
        "        x = self.conv1d(x)\n",
        "        x = self.relu(x)\n",
        "        # Max-pooling layer\n",
        "        x = self.maxpool(x)\n",
        "\n",
        "        # Flatten for fully connected layer\n",
        "        x = x.view(x.size(0), -1)\n",
        "        # Fully connected layer\n",
        "        x = self.fc(x)\n",
        "        x = self.relu(x)\n",
        "        # Output layer\n",
        "        x = self.output_layer(x)\n",
        "        x = nn.functional.softmax(x, dim=1)  # Apply softmax activation\n",
        "\n",
        "        return x"
      ]
    },
    {
      "cell_type": "markdown",
      "metadata": {
        "id": "9zycSYlk-KhR"
      },
      "source": [
        "**Perform Training**"
      ]
    },
    {
      "cell_type": "code",
      "execution_count": null,
      "metadata": {
        "id": "uKbeLlDYeYEJ"
      },
      "outputs": [],
      "source": [
        "# Install required packages\n",
        "import torch\n",
        "import torchaudio\n",
        "from torch.utils.data import Dataset, DataLoader\n",
        "from torchvision.transforms import Compose\n",
        "import os\n",
        "import pandas as pd\n",
        "from sklearn.model_selection import train_test_split\n",
        "\n",
        "# Load your CSV file\n",
        "#csv_path = \"/content/drive/My Drive/DSAP/BigProject/DATA/ANGRY_CLASSIFICATION/labels.csv\"\n",
        "csv_path = \"/content/drive/My Drive/DSAP/BigProject/DATA/ANGRY_CLASSIFICATION_SAME_REP/labels_sameprobability.csv\"\n",
        "df = pd.read_csv(csv_path)\n",
        "\n",
        "# Split the data into training, validation, and test sets\n",
        "# Shuffle the dataframe\n",
        "df = df.sample(frac=1, random_state=42)\n",
        "#df = df.head(4000)\n",
        "temp_df, test_df = train_test_split(df, test_size=0.2, random_state=42)\n",
        "train_df, val_df = train_test_split(temp_df, test_size=0.2, random_state=42)\n",
        "\n",
        "# Define a custom dataset for loading audio files\n",
        "class AudioDataset(Dataset):\n",
        "    def __init__(self, dataframe, root_dir, transform=None):\n",
        "        self.dataframe = dataframe\n",
        "        self.root_dir = root_dir\n",
        "        self.transform = transform\n",
        "\n",
        "    def __len__(self):\n",
        "        return len(self.dataframe)\n",
        "\n",
        "    def __getitem__(self, idx):\n",
        "        file_name = os.path.join(self.root_dir, self.dataframe.iloc[idx, 0])\n",
        "        waveform, sample_rate = torchaudio.load(file_name)\n",
        "        label = torch.tensor(self.dataframe.iloc[idx, 1], dtype=torch.float32)  # Assuming labels are in the second column\n",
        "\n",
        "        # Normalize the waveform to be between 0 and 1\n",
        "        #waveform = (waveform - waveform.min()) / (waveform.max() - waveform.min())\n",
        "        waveform = 2 * (waveform - waveform.min()) / (waveform.max() - waveform.min()) - 1\n",
        "\n",
        "\n",
        "        if self.transform:\n",
        "            waveform = self.transform(waveform)\n",
        "\n",
        "        return waveform, label\n",
        "\n",
        "# Set the path to your directory containing audio files\n",
        "#audio_dir = \"/content/drive/My Drive/DSAP/BigProject/DATA/CremaD/AudioWAV_samelength\"\n",
        "audio_dir = \"/content/drive/My Drive/DSAP/BigProject/DATA/CremaD/ANG_SAMEPROP_REP\"\n",
        "# Create instances of the custom dataset for training, validation, and test\n",
        "train_dataset = AudioDataset(dataframe=train_df, root_dir=audio_dir)\n",
        "val_dataset = AudioDataset(dataframe=val_df, root_dir=audio_dir)\n",
        "test_dataset = AudioDataset(dataframe=test_df, root_dir=audio_dir)\n",
        "\n",
        "# Define data loaders\n",
        "#train_loader = DataLoader(train_dataset, batch_size=32, shuffle=True)\n",
        "val_loader = DataLoader(val_dataset, shuffle=False)\n",
        "test_loader = DataLoader(test_dataset, batch_size=1, shuffle=False)"
      ]
    },
    {
      "cell_type": "code",
      "execution_count": null,
      "metadata": {
        "colab": {
          "base_uri": "https://localhost:8080/"
        },
        "id": "PafW9NIv-VBx",
        "outputId": "f171df00-71b1-468d-d527-0ce343ef6a9a"
      },
      "outputs": [
        {
          "output_type": "stream",
          "name": "stdout",
          "text": [
            "Kernel size is : 400 Samples\n"
          ]
        }
      ],
      "source": [
        "## Settings\n",
        "sampling_rate = 16e3 #was tested before\n",
        "#Calculate the number of samples per window for a 25ms window size\n",
        "kernelCON_len = int(0.025 * sampling_rate)\n",
        "# move window of one fourth of kernel size\n",
        "shiftCON_size = int(0.25 * kernelCON_len)\n",
        "print(f\"Kernel size is : {kernelCON_len} Samples\")\n",
        "\n",
        "hidden_neurons = 8\n",
        "maxPoolLen = 4\n",
        "maxPoolStride = 4\n",
        "\n",
        "num_epochs = 10000"
      ]
    },
    {
      "cell_type": "code",
      "execution_count": null,
      "metadata": {
        "id": "iGcYfRmT-O3y",
        "colab": {
          "base_uri": "https://localhost:8080/"
        },
        "outputId": "c4b45af0-ceec-42dc-8349-645633debe29"
      },
      "outputs": [
        {
          "output_type": "stream",
          "name": "stdout",
          "text": [
            "Input size fc: 199\n"
          ]
        }
      ],
      "source": [
        "# Create an instance of the model, define loss\n",
        "model = SimpleCNN(hidden_neurons=hidden_neurons, filter_len=kernelCON_len, filter_shift = shiftCON_size, maxPoolSize=maxPoolLen, maxPoolShift=maxPoolStride)\n",
        "#optimizer = optim.Adam(model.parameters(), lr=0.001)\n",
        "optimizer = optim.SGD(model.parameters(), lr=0.9, momentum=0.9) # in paper: sgd 0.9, 0.9\n",
        "lr_scheduler = optim.lr_scheduler.StepLR(optimizer, step_size=15, gamma=0.2) # gamma = 0.2\n",
        "model.to( device )\n",
        "criterion = nn.CrossEntropyLoss()\n",
        "#criterion = nn.MSELoss()\n",
        "\n",
        "# Early stopping parameters\n",
        "patience = 50  # Number of epochs with no improvement after which training will be stopped\n",
        "best_val_loss = float('inf')\n",
        "counter_no_improve = 0\n",
        "\n",
        "# Save parameters\n",
        "trainingloss_per_epoch = []\n",
        "validationloss_per_epoch = []\n",
        "accuracy_per_epoch = []"
      ]
    },
    {
      "cell_type": "code",
      "execution_count": null,
      "metadata": {
        "colab": {
          "base_uri": "https://localhost:8080/",
          "height": 1000
        },
        "id": "pcxJ5XgtfHnt",
        "outputId": "a530ba74-df4d-41b3-8716-14ca7cd7f2cf"
      },
      "outputs": [
        {
          "output_type": "stream",
          "name": "stdout",
          "text": [
            "Number batch 0 of 1\n",
            "Epoch [1/10000], Loss: 0.7288, Validation Loss: 0.6958, Accuracy: 46.00%\n",
            "Number batch 0 of 1\n",
            "Epoch [2/10000], Loss: 0.7250, Validation Loss: 0.6953, Accuracy: 46.00%\n",
            "Number batch 0 of 1\n",
            "Epoch [3/10000], Loss: 0.7206, Validation Loss: 0.6947, Accuracy: 46.00%\n",
            "Number batch 0 of 1\n",
            "Epoch [4/10000], Loss: 0.7165, Validation Loss: 0.6940, Accuracy: 46.67%\n",
            "Number batch 0 of 1\n",
            "Epoch [5/10000], Loss: 0.7135, Validation Loss: 0.6931, Accuracy: 47.33%\n",
            "Number batch 0 of 1\n",
            "Epoch [6/10000], Loss: 0.7101, Validation Loss: 0.6920, Accuracy: 49.33%\n",
            "Number batch 0 of 1\n",
            "Epoch [7/10000], Loss: 0.6949, Validation Loss: 0.6910, Accuracy: 46.67%\n",
            "Number batch 0 of 1\n",
            "Epoch [8/10000], Loss: 0.6813, Validation Loss: 0.6909, Accuracy: 48.00%\n",
            "Number batch 0 of 1\n",
            "Epoch [9/10000], Loss: 0.6779, Validation Loss: 0.6913, Accuracy: 50.67%\n",
            "Number batch 0 of 1\n",
            "Epoch [10/10000], Loss: 0.6728, Validation Loss: 0.6917, Accuracy: 52.00%\n",
            "Number batch 0 of 1\n",
            "Epoch [11/10000], Loss: 0.6654, Validation Loss: 0.6918, Accuracy: 52.67%\n",
            "Number batch 0 of 1\n",
            "Epoch [12/10000], Loss: 0.6556, Validation Loss: 0.6910, Accuracy: 55.33%\n",
            "Number batch 0 of 1\n",
            "Epoch [13/10000], Loss: 0.6433, Validation Loss: 0.6890, Accuracy: 59.33%\n",
            "Number batch 0 of 1\n",
            "Epoch [14/10000], Loss: 0.6283, Validation Loss: 0.6851, Accuracy: 62.00%\n",
            "Number batch 0 of 1\n",
            "Epoch [15/10000], Loss: 0.6128, Validation Loss: 0.6781, Accuracy: 63.33%\n",
            "Number batch 0 of 1\n",
            "Epoch [16/10000], Loss: 0.6094, Validation Loss: 0.6760, Accuracy: 64.00%\n",
            "Number batch 0 of 1\n",
            "Epoch [17/10000], Loss: 0.6057, Validation Loss: 0.6734, Accuracy: 63.33%\n",
            "Number batch 0 of 1\n",
            "Epoch [18/10000], Loss: 0.6017, Validation Loss: 0.6702, Accuracy: 63.33%\n",
            "Number batch 0 of 1\n",
            "Epoch [19/10000], Loss: 0.5976, Validation Loss: 0.6665, Accuracy: 64.00%\n",
            "Number batch 0 of 1\n",
            "Epoch [20/10000], Loss: 0.5934, Validation Loss: 0.6623, Accuracy: 64.00%\n",
            "Number batch 0 of 1\n",
            "Epoch [21/10000], Loss: 0.5889, Validation Loss: 0.6578, Accuracy: 63.33%\n",
            "Number batch 0 of 1\n",
            "Epoch [22/10000], Loss: 0.5842, Validation Loss: 0.6533, Accuracy: 64.00%\n",
            "Number batch 0 of 1\n",
            "Epoch [23/10000], Loss: 0.5811, Validation Loss: 0.6491, Accuracy: 65.33%\n",
            "Number batch 0 of 1\n",
            "Epoch [24/10000], Loss: 0.5808, Validation Loss: 0.6484, Accuracy: 66.00%\n",
            "Number batch 0 of 1\n",
            "Epoch [25/10000], Loss: 0.5805, Validation Loss: 0.6479, Accuracy: 66.67%\n",
            "Number batch 0 of 1\n",
            "Epoch [26/10000], Loss: 0.5799, Validation Loss: 0.6474, Accuracy: 66.67%\n",
            "Number batch 0 of 1\n",
            "Epoch [27/10000], Loss: 0.5793, Validation Loss: 0.6470, Accuracy: 66.67%\n",
            "Number batch 0 of 1\n",
            "Epoch [28/10000], Loss: 0.5786, Validation Loss: 0.6467, Accuracy: 66.67%\n",
            "Number batch 0 of 1\n",
            "Epoch [29/10000], Loss: 0.5779, Validation Loss: 0.6465, Accuracy: 65.33%\n",
            "Number batch 0 of 1\n",
            "Epoch [30/10000], Loss: 0.5771, Validation Loss: 0.6463, Accuracy: 65.33%\n",
            "Number batch 0 of 1\n",
            "Epoch [31/10000], Loss: 0.5769, Validation Loss: 0.6463, Accuracy: 65.33%\n",
            "Number batch 0 of 1\n",
            "Epoch [32/10000], Loss: 0.5767, Validation Loss: 0.6463, Accuracy: 65.33%\n",
            "Number batch 0 of 1\n",
            "Epoch [33/10000], Loss: 0.5765, Validation Loss: 0.6463, Accuracy: 65.33%\n",
            "Number batch 0 of 1\n",
            "Epoch [34/10000], Loss: 0.5763, Validation Loss: 0.6463, Accuracy: 65.33%\n",
            "Number batch 0 of 1\n",
            "Epoch [35/10000], Loss: 0.5761, Validation Loss: 0.6463, Accuracy: 65.33%\n",
            "Number batch 0 of 1\n",
            "Epoch [36/10000], Loss: 0.5759, Validation Loss: 0.6463, Accuracy: 65.33%\n",
            "Number batch 0 of 1\n",
            "Epoch [37/10000], Loss: 0.5756, Validation Loss: 0.6463, Accuracy: 64.67%\n",
            "Number batch 0 of 1\n",
            "Epoch [38/10000], Loss: 0.5754, Validation Loss: 0.6463, Accuracy: 64.67%\n",
            "Number batch 0 of 1\n",
            "Epoch [39/10000], Loss: 0.5753, Validation Loss: 0.6463, Accuracy: 64.67%\n",
            "Number batch 0 of 1\n",
            "Epoch [40/10000], Loss: 0.5753, Validation Loss: 0.6463, Accuracy: 64.67%\n",
            "Number batch 0 of 1\n",
            "Epoch [41/10000], Loss: 0.5752, Validation Loss: 0.6463, Accuracy: 64.67%\n",
            "Number batch 0 of 1\n",
            "Epoch [42/10000], Loss: 0.5752, Validation Loss: 0.6462, Accuracy: 64.67%\n",
            "Number batch 0 of 1\n",
            "Epoch [43/10000], Loss: 0.5752, Validation Loss: 0.6462, Accuracy: 64.67%\n",
            "Number batch 0 of 1\n",
            "Epoch [44/10000], Loss: 0.5751, Validation Loss: 0.6462, Accuracy: 64.67%\n",
            "Number batch 0 of 1\n",
            "Epoch [45/10000], Loss: 0.5750, Validation Loss: 0.6462, Accuracy: 64.67%\n",
            "Number batch 0 of 1\n",
            "Epoch [46/10000], Loss: 0.5750, Validation Loss: 0.6462, Accuracy: 64.67%\n",
            "Number batch 0 of 1\n",
            "Epoch [47/10000], Loss: 0.5750, Validation Loss: 0.6462, Accuracy: 64.67%\n",
            "Number batch 0 of 1\n",
            "Epoch [48/10000], Loss: 0.5750, Validation Loss: 0.6462, Accuracy: 64.67%\n",
            "Number batch 0 of 1\n",
            "Epoch [49/10000], Loss: 0.5750, Validation Loss: 0.6462, Accuracy: 64.67%\n",
            "Number batch 0 of 1\n",
            "Epoch [50/10000], Loss: 0.5750, Validation Loss: 0.6462, Accuracy: 64.67%\n",
            "Number batch 0 of 1\n",
            "Epoch [51/10000], Loss: 0.5750, Validation Loss: 0.6462, Accuracy: 64.67%\n",
            "Number batch 0 of 1\n",
            "Epoch [52/10000], Loss: 0.5750, Validation Loss: 0.6462, Accuracy: 64.67%\n",
            "Number batch 0 of 1\n",
            "Epoch [53/10000], Loss: 0.5750, Validation Loss: 0.6462, Accuracy: 64.67%\n",
            "Number batch 0 of 1\n",
            "Epoch [54/10000], Loss: 0.5750, Validation Loss: 0.6462, Accuracy: 64.67%\n",
            "Number batch 0 of 1\n",
            "Epoch [55/10000], Loss: 0.5750, Validation Loss: 0.6462, Accuracy: 64.67%\n",
            "Number batch 0 of 1\n",
            "Epoch [56/10000], Loss: 0.5750, Validation Loss: 0.6462, Accuracy: 64.67%\n",
            "Number batch 0 of 1\n",
            "Epoch [57/10000], Loss: 0.5750, Validation Loss: 0.6462, Accuracy: 64.67%\n",
            "Number batch 0 of 1\n",
            "Epoch [58/10000], Loss: 0.5750, Validation Loss: 0.6462, Accuracy: 64.67%\n",
            "Number batch 0 of 1\n",
            "Epoch [59/10000], Loss: 0.5750, Validation Loss: 0.6462, Accuracy: 64.67%\n",
            "Number batch 0 of 1\n",
            "Epoch [60/10000], Loss: 0.5750, Validation Loss: 0.6462, Accuracy: 64.67%\n",
            "Number batch 0 of 1\n",
            "Epoch [61/10000], Loss: 0.5750, Validation Loss: 0.6462, Accuracy: 64.67%\n",
            "Number batch 0 of 1\n",
            "Epoch [62/10000], Loss: 0.5750, Validation Loss: 0.6462, Accuracy: 64.67%\n",
            "Number batch 0 of 1\n",
            "Epoch [63/10000], Loss: 0.5749, Validation Loss: 0.6462, Accuracy: 64.67%\n",
            "Number batch 0 of 1\n",
            "Epoch [64/10000], Loss: 0.5749, Validation Loss: 0.6462, Accuracy: 64.67%\n",
            "Number batch 0 of 1\n",
            "Epoch [65/10000], Loss: 0.5749, Validation Loss: 0.6462, Accuracy: 64.67%\n",
            "Number batch 0 of 1\n",
            "Epoch [66/10000], Loss: 0.5749, Validation Loss: 0.6462, Accuracy: 64.67%\n",
            "Number batch 0 of 1\n",
            "Epoch [67/10000], Loss: 0.5749, Validation Loss: 0.6462, Accuracy: 64.67%\n",
            "Number batch 0 of 1\n",
            "Epoch [68/10000], Loss: 0.5749, Validation Loss: 0.6462, Accuracy: 64.67%\n",
            "Number batch 0 of 1\n",
            "Epoch [69/10000], Loss: 0.5749, Validation Loss: 0.6462, Accuracy: 64.67%\n",
            "Number batch 0 of 1\n",
            "Epoch [70/10000], Loss: 0.5749, Validation Loss: 0.6462, Accuracy: 64.67%\n",
            "Number batch 0 of 1\n",
            "Epoch [71/10000], Loss: 0.5749, Validation Loss: 0.6462, Accuracy: 64.67%\n",
            "Number batch 0 of 1\n",
            "Epoch [72/10000], Loss: 0.5749, Validation Loss: 0.6462, Accuracy: 64.67%\n",
            "Number batch 0 of 1\n",
            "Epoch [73/10000], Loss: 0.5749, Validation Loss: 0.6462, Accuracy: 64.67%\n",
            "Number batch 0 of 1\n",
            "Epoch [74/10000], Loss: 0.5749, Validation Loss: 0.6462, Accuracy: 64.67%\n",
            "Number batch 0 of 1\n",
            "Epoch [75/10000], Loss: 0.5749, Validation Loss: 0.6462, Accuracy: 64.67%\n",
            "Number batch 0 of 1\n",
            "Epoch [76/10000], Loss: 0.5749, Validation Loss: 0.6462, Accuracy: 64.67%\n",
            "Number batch 0 of 1\n",
            "Epoch [77/10000], Loss: 0.5749, Validation Loss: 0.6462, Accuracy: 64.67%\n",
            "Number batch 0 of 1\n",
            "Epoch [78/10000], Loss: 0.5749, Validation Loss: 0.6462, Accuracy: 64.67%\n",
            "Number batch 0 of 1\n",
            "Epoch [79/10000], Loss: 0.5749, Validation Loss: 0.6462, Accuracy: 64.67%\n",
            "Number batch 0 of 1\n",
            "Epoch [80/10000], Loss: 0.5749, Validation Loss: 0.6462, Accuracy: 64.67%\n",
            "Number batch 0 of 1\n",
            "Epoch [81/10000], Loss: 0.5749, Validation Loss: 0.6462, Accuracy: 64.67%\n",
            "Number batch 0 of 1\n",
            "Epoch [82/10000], Loss: 0.5749, Validation Loss: 0.6462, Accuracy: 64.67%\n",
            "Number batch 0 of 1\n",
            "Epoch [83/10000], Loss: 0.5749, Validation Loss: 0.6462, Accuracy: 64.67%\n",
            "Number batch 0 of 1\n",
            "Epoch [84/10000], Loss: 0.5749, Validation Loss: 0.6462, Accuracy: 64.67%\n",
            "Number batch 0 of 1\n",
            "Epoch [85/10000], Loss: 0.5749, Validation Loss: 0.6462, Accuracy: 64.67%\n",
            "Number batch 0 of 1\n",
            "Epoch [86/10000], Loss: 0.5749, Validation Loss: 0.6462, Accuracy: 64.67%\n",
            "Number batch 0 of 1\n",
            "Epoch [87/10000], Loss: 0.5749, Validation Loss: 0.6462, Accuracy: 64.67%\n",
            "Number batch 0 of 1\n",
            "Epoch [88/10000], Loss: 0.5749, Validation Loss: 0.6462, Accuracy: 64.67%\n",
            "Number batch 0 of 1\n",
            "Epoch [89/10000], Loss: 0.5749, Validation Loss: 0.6462, Accuracy: 64.67%\n",
            "Number batch 0 of 1\n",
            "Epoch [90/10000], Loss: 0.5749, Validation Loss: 0.6462, Accuracy: 64.67%\n",
            "Number batch 0 of 1\n",
            "Epoch [91/10000], Loss: 0.5749, Validation Loss: 0.6462, Accuracy: 64.67%\n",
            "Number batch 0 of 1\n",
            "Epoch [92/10000], Loss: 0.5749, Validation Loss: 0.6462, Accuracy: 64.67%\n",
            "Number batch 0 of 1\n",
            "Epoch [93/10000], Loss: 0.5749, Validation Loss: 0.6462, Accuracy: 64.67%\n",
            "Number batch 0 of 1\n",
            "Epoch [94/10000], Loss: 0.5749, Validation Loss: 0.6462, Accuracy: 64.67%\n",
            "Number batch 0 of 1\n",
            "Epoch [95/10000], Loss: 0.5749, Validation Loss: 0.6462, Accuracy: 64.67%\n",
            "Number batch 0 of 1\n",
            "Epoch [96/10000], Loss: 0.5749, Validation Loss: 0.6462, Accuracy: 64.67%\n",
            "Number batch 0 of 1\n",
            "Epoch [97/10000], Loss: 0.5749, Validation Loss: 0.6462, Accuracy: 64.67%\n",
            "Number batch 0 of 1\n",
            "Epoch [98/10000], Loss: 0.5749, Validation Loss: 0.6462, Accuracy: 64.67%\n",
            "Number batch 0 of 1\n",
            "Epoch [99/10000], Loss: 0.5749, Validation Loss: 0.6462, Accuracy: 64.67%\n",
            "Number batch 0 of 1\n",
            "Epoch [100/10000], Loss: 0.5749, Validation Loss: 0.6462, Accuracy: 64.67%\n",
            "Number batch 0 of 1\n",
            "Epoch [101/10000], Loss: 0.5749, Validation Loss: 0.6462, Accuracy: 64.67%\n",
            "Number batch 0 of 1\n",
            "Epoch [102/10000], Loss: 0.5749, Validation Loss: 0.6462, Accuracy: 64.67%\n",
            "Number batch 0 of 1\n",
            "Epoch [103/10000], Loss: 0.5749, Validation Loss: 0.6462, Accuracy: 64.67%\n",
            "Number batch 0 of 1\n",
            "Epoch [104/10000], Loss: 0.5749, Validation Loss: 0.6462, Accuracy: 64.67%\n",
            "Number batch 0 of 1\n",
            "Epoch [105/10000], Loss: 0.5749, Validation Loss: 0.6462, Accuracy: 64.67%\n",
            "Number batch 0 of 1\n",
            "Epoch [106/10000], Loss: 0.5749, Validation Loss: 0.6462, Accuracy: 64.67%\n"
          ]
        },
        {
          "output_type": "error",
          "ename": "KeyboardInterrupt",
          "evalue": "ignored",
          "traceback": [
            "\u001b[0;31m---------------------------------------------------------------------------\u001b[0m",
            "\u001b[0;31mKeyboardInterrupt\u001b[0m                         Traceback (most recent call last)",
            "\u001b[0;32m<ipython-input-13-3e08c430f75e>\u001b[0m in \u001b[0;36m<cell line: 11>\u001b[0;34m()\u001b[0m\n\u001b[1;32m     16\u001b[0m     \u001b[0mtrain_loader_epoch\u001b[0m \u001b[0;34m=\u001b[0m \u001b[0mDataLoader\u001b[0m\u001b[0;34m(\u001b[0m\u001b[0mtrain_dataset\u001b[0m\u001b[0;34m,\u001b[0m \u001b[0mbatch_size\u001b[0m\u001b[0;34m=\u001b[0m\u001b[0mdynamic_batch_size\u001b[0m\u001b[0;34m,\u001b[0m \u001b[0mshuffle\u001b[0m\u001b[0;34m=\u001b[0m\u001b[0;32mTrue\u001b[0m\u001b[0;34m)\u001b[0m\u001b[0;34m\u001b[0m\u001b[0;34m\u001b[0m\u001b[0m\n\u001b[1;32m     17\u001b[0m     \u001b[0mlenTrainLoader\u001b[0m \u001b[0;34m=\u001b[0m \u001b[0mlen\u001b[0m\u001b[0;34m(\u001b[0m\u001b[0mtrain_loader_epoch\u001b[0m\u001b[0;34m)\u001b[0m\u001b[0;34m\u001b[0m\u001b[0;34m\u001b[0m\u001b[0m\n\u001b[0;32m---> 18\u001b[0;31m     \u001b[0;32mfor\u001b[0m \u001b[0mbatch\u001b[0m \u001b[0;32min\u001b[0m \u001b[0mtrain_loader_epoch\u001b[0m\u001b[0;34m:\u001b[0m\u001b[0;34m\u001b[0m\u001b[0;34m\u001b[0m\u001b[0m\n\u001b[0m\u001b[1;32m     19\u001b[0m         \u001b[0minput_save\u001b[0m\u001b[0;34m,\u001b[0m \u001b[0mlabel_save\u001b[0m \u001b[0;34m=\u001b[0m \u001b[0mbatch\u001b[0m\u001b[0;34m\u001b[0m\u001b[0;34m\u001b[0m\u001b[0m\n\u001b[1;32m     20\u001b[0m         \u001b[0;32mif\u001b[0m \u001b[0;32mnot\u001b[0m \u001b[0mtorch\u001b[0m\u001b[0;34m.\u001b[0m\u001b[0misnan\u001b[0m\u001b[0;34m(\u001b[0m\u001b[0minput_save\u001b[0m\u001b[0;34m.\u001b[0m\u001b[0munsqueeze\u001b[0m\u001b[0;34m(\u001b[0m\u001b[0;36m1\u001b[0m\u001b[0;34m)\u001b[0m\u001b[0;34m)\u001b[0m\u001b[0;34m.\u001b[0m\u001b[0many\u001b[0m\u001b[0;34m(\u001b[0m\u001b[0;34m)\u001b[0m\u001b[0;34m:\u001b[0m\u001b[0;34m\u001b[0m\u001b[0;34m\u001b[0m\u001b[0m\n",
            "\u001b[0;32m/usr/local/lib/python3.10/dist-packages/torch/utils/data/dataloader.py\u001b[0m in \u001b[0;36m__next__\u001b[0;34m(self)\u001b[0m\n\u001b[1;32m    628\u001b[0m                 \u001b[0;31m# TODO(https://github.com/pytorch/pytorch/issues/76750)\u001b[0m\u001b[0;34m\u001b[0m\u001b[0;34m\u001b[0m\u001b[0m\n\u001b[1;32m    629\u001b[0m                 \u001b[0mself\u001b[0m\u001b[0;34m.\u001b[0m\u001b[0m_reset\u001b[0m\u001b[0;34m(\u001b[0m\u001b[0;34m)\u001b[0m  \u001b[0;31m# type: ignore[call-arg]\u001b[0m\u001b[0;34m\u001b[0m\u001b[0;34m\u001b[0m\u001b[0m\n\u001b[0;32m--> 630\u001b[0;31m             \u001b[0mdata\u001b[0m \u001b[0;34m=\u001b[0m \u001b[0mself\u001b[0m\u001b[0;34m.\u001b[0m\u001b[0m_next_data\u001b[0m\u001b[0;34m(\u001b[0m\u001b[0;34m)\u001b[0m\u001b[0;34m\u001b[0m\u001b[0;34m\u001b[0m\u001b[0m\n\u001b[0m\u001b[1;32m    631\u001b[0m             \u001b[0mself\u001b[0m\u001b[0;34m.\u001b[0m\u001b[0m_num_yielded\u001b[0m \u001b[0;34m+=\u001b[0m \u001b[0;36m1\u001b[0m\u001b[0;34m\u001b[0m\u001b[0;34m\u001b[0m\u001b[0m\n\u001b[1;32m    632\u001b[0m             \u001b[0;32mif\u001b[0m \u001b[0mself\u001b[0m\u001b[0;34m.\u001b[0m\u001b[0m_dataset_kind\u001b[0m \u001b[0;34m==\u001b[0m \u001b[0m_DatasetKind\u001b[0m\u001b[0;34m.\u001b[0m\u001b[0mIterable\u001b[0m \u001b[0;32mand\u001b[0m\u001b[0;31m \u001b[0m\u001b[0;31m\\\u001b[0m\u001b[0;34m\u001b[0m\u001b[0;34m\u001b[0m\u001b[0m\n",
            "\u001b[0;32m/usr/local/lib/python3.10/dist-packages/torch/utils/data/dataloader.py\u001b[0m in \u001b[0;36m_next_data\u001b[0;34m(self)\u001b[0m\n\u001b[1;32m    672\u001b[0m     \u001b[0;32mdef\u001b[0m \u001b[0m_next_data\u001b[0m\u001b[0;34m(\u001b[0m\u001b[0mself\u001b[0m\u001b[0;34m)\u001b[0m\u001b[0;34m:\u001b[0m\u001b[0;34m\u001b[0m\u001b[0;34m\u001b[0m\u001b[0m\n\u001b[1;32m    673\u001b[0m         \u001b[0mindex\u001b[0m \u001b[0;34m=\u001b[0m \u001b[0mself\u001b[0m\u001b[0;34m.\u001b[0m\u001b[0m_next_index\u001b[0m\u001b[0;34m(\u001b[0m\u001b[0;34m)\u001b[0m  \u001b[0;31m# may raise StopIteration\u001b[0m\u001b[0;34m\u001b[0m\u001b[0;34m\u001b[0m\u001b[0m\n\u001b[0;32m--> 674\u001b[0;31m         \u001b[0mdata\u001b[0m \u001b[0;34m=\u001b[0m \u001b[0mself\u001b[0m\u001b[0;34m.\u001b[0m\u001b[0m_dataset_fetcher\u001b[0m\u001b[0;34m.\u001b[0m\u001b[0mfetch\u001b[0m\u001b[0;34m(\u001b[0m\u001b[0mindex\u001b[0m\u001b[0;34m)\u001b[0m  \u001b[0;31m# may raise StopIteration\u001b[0m\u001b[0;34m\u001b[0m\u001b[0;34m\u001b[0m\u001b[0m\n\u001b[0m\u001b[1;32m    675\u001b[0m         \u001b[0;32mif\u001b[0m \u001b[0mself\u001b[0m\u001b[0;34m.\u001b[0m\u001b[0m_pin_memory\u001b[0m\u001b[0;34m:\u001b[0m\u001b[0;34m\u001b[0m\u001b[0;34m\u001b[0m\u001b[0m\n\u001b[1;32m    676\u001b[0m             \u001b[0mdata\u001b[0m \u001b[0;34m=\u001b[0m \u001b[0m_utils\u001b[0m\u001b[0;34m.\u001b[0m\u001b[0mpin_memory\u001b[0m\u001b[0;34m.\u001b[0m\u001b[0mpin_memory\u001b[0m\u001b[0;34m(\u001b[0m\u001b[0mdata\u001b[0m\u001b[0;34m,\u001b[0m \u001b[0mself\u001b[0m\u001b[0;34m.\u001b[0m\u001b[0m_pin_memory_device\u001b[0m\u001b[0;34m)\u001b[0m\u001b[0;34m\u001b[0m\u001b[0;34m\u001b[0m\u001b[0m\n",
            "\u001b[0;32m/usr/local/lib/python3.10/dist-packages/torch/utils/data/_utils/fetch.py\u001b[0m in \u001b[0;36mfetch\u001b[0;34m(self, possibly_batched_index)\u001b[0m\n\u001b[1;32m     49\u001b[0m                 \u001b[0mdata\u001b[0m \u001b[0;34m=\u001b[0m \u001b[0mself\u001b[0m\u001b[0;34m.\u001b[0m\u001b[0mdataset\u001b[0m\u001b[0;34m.\u001b[0m\u001b[0m__getitems__\u001b[0m\u001b[0;34m(\u001b[0m\u001b[0mpossibly_batched_index\u001b[0m\u001b[0;34m)\u001b[0m\u001b[0;34m\u001b[0m\u001b[0;34m\u001b[0m\u001b[0m\n\u001b[1;32m     50\u001b[0m             \u001b[0;32melse\u001b[0m\u001b[0;34m:\u001b[0m\u001b[0;34m\u001b[0m\u001b[0;34m\u001b[0m\u001b[0m\n\u001b[0;32m---> 51\u001b[0;31m                 \u001b[0mdata\u001b[0m \u001b[0;34m=\u001b[0m \u001b[0;34m[\u001b[0m\u001b[0mself\u001b[0m\u001b[0;34m.\u001b[0m\u001b[0mdataset\u001b[0m\u001b[0;34m[\u001b[0m\u001b[0midx\u001b[0m\u001b[0;34m]\u001b[0m \u001b[0;32mfor\u001b[0m \u001b[0midx\u001b[0m \u001b[0;32min\u001b[0m \u001b[0mpossibly_batched_index\u001b[0m\u001b[0;34m]\u001b[0m\u001b[0;34m\u001b[0m\u001b[0;34m\u001b[0m\u001b[0m\n\u001b[0m\u001b[1;32m     52\u001b[0m         \u001b[0;32melse\u001b[0m\u001b[0;34m:\u001b[0m\u001b[0;34m\u001b[0m\u001b[0;34m\u001b[0m\u001b[0m\n\u001b[1;32m     53\u001b[0m             \u001b[0mdata\u001b[0m \u001b[0;34m=\u001b[0m \u001b[0mself\u001b[0m\u001b[0;34m.\u001b[0m\u001b[0mdataset\u001b[0m\u001b[0;34m[\u001b[0m\u001b[0mpossibly_batched_index\u001b[0m\u001b[0;34m]\u001b[0m\u001b[0;34m\u001b[0m\u001b[0;34m\u001b[0m\u001b[0m\n",
            "\u001b[0;32m/usr/local/lib/python3.10/dist-packages/torch/utils/data/_utils/fetch.py\u001b[0m in \u001b[0;36m<listcomp>\u001b[0;34m(.0)\u001b[0m\n\u001b[1;32m     49\u001b[0m                 \u001b[0mdata\u001b[0m \u001b[0;34m=\u001b[0m \u001b[0mself\u001b[0m\u001b[0;34m.\u001b[0m\u001b[0mdataset\u001b[0m\u001b[0;34m.\u001b[0m\u001b[0m__getitems__\u001b[0m\u001b[0;34m(\u001b[0m\u001b[0mpossibly_batched_index\u001b[0m\u001b[0;34m)\u001b[0m\u001b[0;34m\u001b[0m\u001b[0;34m\u001b[0m\u001b[0m\n\u001b[1;32m     50\u001b[0m             \u001b[0;32melse\u001b[0m\u001b[0;34m:\u001b[0m\u001b[0;34m\u001b[0m\u001b[0;34m\u001b[0m\u001b[0m\n\u001b[0;32m---> 51\u001b[0;31m                 \u001b[0mdata\u001b[0m \u001b[0;34m=\u001b[0m \u001b[0;34m[\u001b[0m\u001b[0mself\u001b[0m\u001b[0;34m.\u001b[0m\u001b[0mdataset\u001b[0m\u001b[0;34m[\u001b[0m\u001b[0midx\u001b[0m\u001b[0;34m]\u001b[0m \u001b[0;32mfor\u001b[0m \u001b[0midx\u001b[0m \u001b[0;32min\u001b[0m \u001b[0mpossibly_batched_index\u001b[0m\u001b[0;34m]\u001b[0m\u001b[0;34m\u001b[0m\u001b[0;34m\u001b[0m\u001b[0m\n\u001b[0m\u001b[1;32m     52\u001b[0m         \u001b[0;32melse\u001b[0m\u001b[0;34m:\u001b[0m\u001b[0;34m\u001b[0m\u001b[0;34m\u001b[0m\u001b[0m\n\u001b[1;32m     53\u001b[0m             \u001b[0mdata\u001b[0m \u001b[0;34m=\u001b[0m \u001b[0mself\u001b[0m\u001b[0;34m.\u001b[0m\u001b[0mdataset\u001b[0m\u001b[0;34m[\u001b[0m\u001b[0mpossibly_batched_index\u001b[0m\u001b[0;34m]\u001b[0m\u001b[0;34m\u001b[0m\u001b[0;34m\u001b[0m\u001b[0m\n",
            "\u001b[0;32m<ipython-input-10-ac1a82ef6671>\u001b[0m in \u001b[0;36m__getitem__\u001b[0;34m(self, idx)\u001b[0m\n\u001b[1;32m     32\u001b[0m     \u001b[0;32mdef\u001b[0m \u001b[0m__getitem__\u001b[0m\u001b[0;34m(\u001b[0m\u001b[0mself\u001b[0m\u001b[0;34m,\u001b[0m \u001b[0midx\u001b[0m\u001b[0;34m)\u001b[0m\u001b[0;34m:\u001b[0m\u001b[0;34m\u001b[0m\u001b[0;34m\u001b[0m\u001b[0m\n\u001b[1;32m     33\u001b[0m         \u001b[0mfile_name\u001b[0m \u001b[0;34m=\u001b[0m \u001b[0mos\u001b[0m\u001b[0;34m.\u001b[0m\u001b[0mpath\u001b[0m\u001b[0;34m.\u001b[0m\u001b[0mjoin\u001b[0m\u001b[0;34m(\u001b[0m\u001b[0mself\u001b[0m\u001b[0;34m.\u001b[0m\u001b[0mroot_dir\u001b[0m\u001b[0;34m,\u001b[0m \u001b[0mself\u001b[0m\u001b[0;34m.\u001b[0m\u001b[0mdataframe\u001b[0m\u001b[0;34m.\u001b[0m\u001b[0miloc\u001b[0m\u001b[0;34m[\u001b[0m\u001b[0midx\u001b[0m\u001b[0;34m,\u001b[0m \u001b[0;36m0\u001b[0m\u001b[0;34m]\u001b[0m\u001b[0;34m)\u001b[0m\u001b[0;34m\u001b[0m\u001b[0;34m\u001b[0m\u001b[0m\n\u001b[0;32m---> 34\u001b[0;31m         \u001b[0mwaveform\u001b[0m\u001b[0;34m,\u001b[0m \u001b[0msample_rate\u001b[0m \u001b[0;34m=\u001b[0m \u001b[0mtorchaudio\u001b[0m\u001b[0;34m.\u001b[0m\u001b[0mload\u001b[0m\u001b[0;34m(\u001b[0m\u001b[0mfile_name\u001b[0m\u001b[0;34m)\u001b[0m\u001b[0;34m\u001b[0m\u001b[0;34m\u001b[0m\u001b[0m\n\u001b[0m\u001b[1;32m     35\u001b[0m         \u001b[0mlabel\u001b[0m \u001b[0;34m=\u001b[0m \u001b[0mtorch\u001b[0m\u001b[0;34m.\u001b[0m\u001b[0mtensor\u001b[0m\u001b[0;34m(\u001b[0m\u001b[0mself\u001b[0m\u001b[0;34m.\u001b[0m\u001b[0mdataframe\u001b[0m\u001b[0;34m.\u001b[0m\u001b[0miloc\u001b[0m\u001b[0;34m[\u001b[0m\u001b[0midx\u001b[0m\u001b[0;34m,\u001b[0m \u001b[0;36m1\u001b[0m\u001b[0;34m]\u001b[0m\u001b[0;34m,\u001b[0m \u001b[0mdtype\u001b[0m\u001b[0;34m=\u001b[0m\u001b[0mtorch\u001b[0m\u001b[0;34m.\u001b[0m\u001b[0mfloat32\u001b[0m\u001b[0;34m)\u001b[0m  \u001b[0;31m# Assuming labels are in the second column\u001b[0m\u001b[0;34m\u001b[0m\u001b[0;34m\u001b[0m\u001b[0m\n\u001b[1;32m     36\u001b[0m \u001b[0;34m\u001b[0m\u001b[0m\n",
            "\u001b[0;32m/usr/local/lib/python3.10/dist-packages/torchaudio/_backend/utils.py\u001b[0m in \u001b[0;36mload\u001b[0;34m(uri, frame_offset, num_frames, normalize, channels_first, format, buffer_size, backend)\u001b[0m\n\u001b[1;32m    201\u001b[0m         \"\"\"\n\u001b[1;32m    202\u001b[0m         \u001b[0mbackend\u001b[0m \u001b[0;34m=\u001b[0m \u001b[0mdispatcher\u001b[0m\u001b[0;34m(\u001b[0m\u001b[0muri\u001b[0m\u001b[0;34m,\u001b[0m \u001b[0mformat\u001b[0m\u001b[0;34m,\u001b[0m \u001b[0mbackend\u001b[0m\u001b[0;34m)\u001b[0m\u001b[0;34m\u001b[0m\u001b[0;34m\u001b[0m\u001b[0m\n\u001b[0;32m--> 203\u001b[0;31m         \u001b[0;32mreturn\u001b[0m \u001b[0mbackend\u001b[0m\u001b[0;34m.\u001b[0m\u001b[0mload\u001b[0m\u001b[0;34m(\u001b[0m\u001b[0muri\u001b[0m\u001b[0;34m,\u001b[0m \u001b[0mframe_offset\u001b[0m\u001b[0;34m,\u001b[0m \u001b[0mnum_frames\u001b[0m\u001b[0;34m,\u001b[0m \u001b[0mnormalize\u001b[0m\u001b[0;34m,\u001b[0m \u001b[0mchannels_first\u001b[0m\u001b[0;34m,\u001b[0m \u001b[0mformat\u001b[0m\u001b[0;34m,\u001b[0m \u001b[0mbuffer_size\u001b[0m\u001b[0;34m)\u001b[0m\u001b[0;34m\u001b[0m\u001b[0;34m\u001b[0m\u001b[0m\n\u001b[0m\u001b[1;32m    204\u001b[0m \u001b[0;34m\u001b[0m\u001b[0m\n\u001b[1;32m    205\u001b[0m     \u001b[0;32mreturn\u001b[0m \u001b[0mload\u001b[0m\u001b[0;34m\u001b[0m\u001b[0;34m\u001b[0m\u001b[0m\n",
            "\u001b[0;32m/usr/local/lib/python3.10/dist-packages/torchaudio/_backend/ffmpeg.py\u001b[0m in \u001b[0;36mload\u001b[0;34m(uri, frame_offset, num_frames, normalize, channels_first, format, buffer_size)\u001b[0m\n\u001b[1;32m    332\u001b[0m             )\n\u001b[1;32m    333\u001b[0m         \u001b[0;32melse\u001b[0m\u001b[0;34m:\u001b[0m\u001b[0;34m\u001b[0m\u001b[0;34m\u001b[0m\u001b[0m\n\u001b[0;32m--> 334\u001b[0;31m             \u001b[0;32mreturn\u001b[0m \u001b[0mload_audio\u001b[0m\u001b[0;34m(\u001b[0m\u001b[0mos\u001b[0m\u001b[0;34m.\u001b[0m\u001b[0mpath\u001b[0m\u001b[0;34m.\u001b[0m\u001b[0mnormpath\u001b[0m\u001b[0;34m(\u001b[0m\u001b[0muri\u001b[0m\u001b[0;34m)\u001b[0m\u001b[0;34m,\u001b[0m \u001b[0mframe_offset\u001b[0m\u001b[0;34m,\u001b[0m \u001b[0mnum_frames\u001b[0m\u001b[0;34m,\u001b[0m \u001b[0mnormalize\u001b[0m\u001b[0;34m,\u001b[0m \u001b[0mchannels_first\u001b[0m\u001b[0;34m,\u001b[0m \u001b[0mformat\u001b[0m\u001b[0;34m)\u001b[0m\u001b[0;34m\u001b[0m\u001b[0;34m\u001b[0m\u001b[0m\n\u001b[0m\u001b[1;32m    335\u001b[0m \u001b[0;34m\u001b[0m\u001b[0m\n\u001b[1;32m    336\u001b[0m     \u001b[0;34m@\u001b[0m\u001b[0mstaticmethod\u001b[0m\u001b[0;34m\u001b[0m\u001b[0;34m\u001b[0m\u001b[0m\n",
            "\u001b[0;32m/usr/local/lib/python3.10/dist-packages/torchaudio/_backend/ffmpeg.py\u001b[0m in \u001b[0;36mload_audio\u001b[0;34m(src, frame_offset, num_frames, convert, channels_first, format)\u001b[0m\n\u001b[1;32m     98\u001b[0m ) -> Tuple[torch.Tensor, int]:\n\u001b[1;32m     99\u001b[0m     \u001b[0mfilter\u001b[0m \u001b[0;34m=\u001b[0m \u001b[0m_get_load_filter\u001b[0m\u001b[0;34m(\u001b[0m\u001b[0mframe_offset\u001b[0m\u001b[0;34m,\u001b[0m \u001b[0mnum_frames\u001b[0m\u001b[0;34m,\u001b[0m \u001b[0mconvert\u001b[0m\u001b[0;34m)\u001b[0m\u001b[0;34m\u001b[0m\u001b[0;34m\u001b[0m\u001b[0m\n\u001b[0;32m--> 100\u001b[0;31m     \u001b[0;32mreturn\u001b[0m \u001b[0mtorch\u001b[0m\u001b[0;34m.\u001b[0m\u001b[0mops\u001b[0m\u001b[0;34m.\u001b[0m\u001b[0mtorchaudio\u001b[0m\u001b[0;34m.\u001b[0m\u001b[0mcompat_load\u001b[0m\u001b[0;34m(\u001b[0m\u001b[0msrc\u001b[0m\u001b[0;34m,\u001b[0m \u001b[0mformat\u001b[0m\u001b[0;34m,\u001b[0m \u001b[0mfilter\u001b[0m\u001b[0;34m,\u001b[0m \u001b[0mchannels_first\u001b[0m\u001b[0;34m)\u001b[0m\u001b[0;34m\u001b[0m\u001b[0;34m\u001b[0m\u001b[0m\n\u001b[0m\u001b[1;32m    101\u001b[0m \u001b[0;34m\u001b[0m\u001b[0m\n\u001b[1;32m    102\u001b[0m \u001b[0;34m\u001b[0m\u001b[0m\n",
            "\u001b[0;32m/usr/local/lib/python3.10/dist-packages/torch/_ops.py\u001b[0m in \u001b[0;36m__call__\u001b[0;34m(self, *args, **kwargs)\u001b[0m\n\u001b[1;32m    690\u001b[0m         \u001b[0;31m# We save the function ptr as the `op` attribute on\u001b[0m\u001b[0;34m\u001b[0m\u001b[0;34m\u001b[0m\u001b[0m\n\u001b[1;32m    691\u001b[0m         \u001b[0;31m# OpOverloadPacket to access it here.\u001b[0m\u001b[0;34m\u001b[0m\u001b[0;34m\u001b[0m\u001b[0m\n\u001b[0;32m--> 692\u001b[0;31m         \u001b[0;32mreturn\u001b[0m \u001b[0mself\u001b[0m\u001b[0;34m.\u001b[0m\u001b[0m_op\u001b[0m\u001b[0;34m(\u001b[0m\u001b[0;34m*\u001b[0m\u001b[0margs\u001b[0m\u001b[0;34m,\u001b[0m \u001b[0;34m**\u001b[0m\u001b[0mkwargs\u001b[0m \u001b[0;32mor\u001b[0m \u001b[0;34m{\u001b[0m\u001b[0;34m}\u001b[0m\u001b[0;34m)\u001b[0m\u001b[0;34m\u001b[0m\u001b[0;34m\u001b[0m\u001b[0m\n\u001b[0m\u001b[1;32m    693\u001b[0m \u001b[0;34m\u001b[0m\u001b[0m\n\u001b[1;32m    694\u001b[0m     \u001b[0;31m# TODO: use this to make a __dir__\u001b[0m\u001b[0;34m\u001b[0m\u001b[0;34m\u001b[0m\u001b[0m\n",
            "\u001b[0;31mKeyboardInterrupt\u001b[0m: "
          ]
        }
      ],
      "source": [
        "# Training loop\n",
        "#max_grad_norm = 100000000.0\n",
        "dynamic_batch_size = 598\n",
        "from torch.nn.utils import clip_grad_norm_\n",
        "import torch\n",
        "from torch.utils.data import DataLoader\n",
        "from torch.utils.tensorboard import SummaryWriter\n",
        "import os\n",
        "\n",
        "\n",
        "for epoch in range(num_epochs):\n",
        "    model.train()\n",
        "    i=0\n",
        "\n",
        "      # Set your initial batch size\n",
        "    train_loader_epoch = DataLoader(train_dataset, batch_size=dynamic_batch_size, shuffle=True)\n",
        "    lenTrainLoader = len(train_loader_epoch)\n",
        "    for batch in train_loader_epoch:\n",
        "        input_save, label_save = batch\n",
        "        if not torch.isnan(input_save.unsqueeze(1)).any():\n",
        "          inputs, labels = batch\n",
        "          inputs, labels = inputs.to(device), labels.to(device)\n",
        "\n",
        "          # Zero the gradients\n",
        "          optimizer.zero_grad()\n",
        "\n",
        "          # Forward pass\n",
        "          outputs = model(inputs)\n",
        "          #outputs = torch.sigmoid(outputs)\n",
        "          if i%40 == 0 or i==0:\n",
        "            #print(labels.unsqueeze(1))\n",
        "            #print(\"#######################################################\")\n",
        "            #print(outputs)\n",
        "            #print(labels)\n",
        "            #print(\"#######################################################\")\n",
        "            print(\"Number batch \" + str(i) + \" of \" + str(lenTrainLoader))\n",
        "          #if math.isnan(outputs):\n",
        "          #  print(input_save)\n",
        "          i+=1\n",
        "          # Calculate the loss\n",
        "          loss = criterion(outputs, labels.long())\n",
        "\n",
        "\n",
        "\n",
        "          # Backward pass\n",
        "          loss.backward()\n",
        "          #clip_grad_norm_(model.parameters(), max_grad_norm)\n",
        "\n",
        "          # Update weights\n",
        "          optimizer.step()\n",
        "\n",
        "          i += 1\n",
        "\n",
        "    # Validation loop\n",
        "    model.eval()\n",
        "    val_loss = 0.0\n",
        "    correct = 0\n",
        "    total = 0\n",
        "\n",
        "    with torch.no_grad():\n",
        "        for batch in val_loader:\n",
        "            inputs, labels = batch\n",
        "            inputs, labels = inputs.to(device), labels.to(device)\n",
        "\n",
        "            # Forward pass\n",
        "            outputs = model(inputs)\n",
        "            #outputs = torch.sigmoid(outputs)\n",
        "\n",
        "            # Calculate the loss\n",
        "            loss = criterion(outputs, labels.long())\n",
        "            val_loss += loss.item()\n",
        "\n",
        "            # Accuracy calculation\n",
        "            predicted = torch.argmax(outputs, dim=1)\n",
        "            #predicted = torch.round(outputs)\n",
        "            total += labels.size(0)\n",
        "            correct += (predicted == labels.unsqueeze(1)).sum().item()\n",
        "\n",
        "    average_val_loss = val_loss / len(val_loader)\n",
        "    accuracy = correct / total\n",
        "    lr_scheduler.step()\n",
        "    print(f'Epoch [{epoch + 1}/{num_epochs}], Loss: {loss.item():.4f}, Validation Loss: {average_val_loss:.4f}, Accuracy: {accuracy * 100:.2f}%')\n",
        "    # Append values to the existing lists\n",
        "    trainingloss_per_epoch.append(loss.cpu().item())\n",
        "    validationloss_per_epoch.append(average_val_loss)\n",
        "    accuracy_per_epoch.append(accuracy)\n",
        "    np.savetxt('/content/drive/My Drive/cnn_softmax_rep_ang/training_loss.csv', trainingloss_per_epoch, delimiter=',')\n",
        "    np.savetxt('/content/drive/My Drive/cnn_softmax_rep_ang/validation_loss.csv', validationloss_per_epoch, delimiter=',')\n",
        "    np.savetxt('/content/drive/My Drive/cnn_softmax_rep_ang/accuracy.csv', accuracy_per_epoch, delimiter=',')\n",
        "    # Learning rate scheduling\n",
        "    lr_scheduler.step()\n",
        "\n",
        "\n",
        "    # Early stopping\n",
        "    if average_val_loss < best_val_loss:\n",
        "        torch.save(model.state_dict(), '/content/drive/My Drive/cnn_softmax_rep_ang/CNN_PAPER.pth')\n",
        "\n",
        "        #if dynamic_batch_size*1.5<598:\n",
        "        #  dynamic_batch_size = int(dynamic_batch_size*1.5)\n",
        "        best_val_loss = average_val_loss\n",
        "        counter_no_improve = 0\n",
        "    else:\n",
        "        counter_no_improve += 1\n",
        "\n",
        "    #if counter_no_improve >= patience:\n",
        "    #    print(f'Early stopping! No improvement for {patience} consecutive epochs.')\n",
        "    #    break\n",
        "print('Training finished.')"
      ]
    },
    {
      "cell_type": "code",
      "execution_count": null,
      "metadata": {
        "id": "Pk7hEHpYq65w",
        "colab": {
          "base_uri": "https://localhost:8080/"
        },
        "outputId": "48591093-ebe9-436e-e111-3ece4ce4e363"
      },
      "outputs": [
        {
          "output_type": "stream",
          "name": "stdout",
          "text": [
            "0 / 188\n",
            "100 / 188\n",
            "Test Loss: 0.6224, Test Accuracy: 0.7074468085106383, Angry Detection Percentage: 0.30319148936170215\n"
          ]
        }
      ],
      "source": [
        "model.load_state_dict(torch.load('/content/drive/My Drive/cnn_softmax_rep_ang/CNN_PAPER.pth')) #, map_location=torch.device('cpu')))\n",
        "model.eval()  # Set the model to evaluation mode\n",
        "\n",
        "test_loss = 0.0\n",
        "correct = 0\n",
        "total = 0\n",
        "angry_detected = 0\n",
        "\n",
        "with torch.no_grad():\n",
        "    i = 0\n",
        "    len_test = len(test_loader)\n",
        "    for batch in test_loader:  # Assuming you have a DataLoader for your test set\n",
        "        inputs, labels = batch\n",
        "        inputs, labels = inputs.to(device), labels.to(device)\n",
        "        if i % 100 == 0:\n",
        "            print(str(i) + \" / \" + str(len_test))\n",
        "        i += 1\n",
        "\n",
        "        # Forward pass\n",
        "        probs = model(inputs)\n",
        "        loss = criterion(probs, labels.long())  # Use .long() for integer labels in CrossEntropyLoss\n",
        "        test_loss += loss.item()\n",
        "\n",
        "        # Accuracy calculation\n",
        "        predicted = torch.argmax(probs, dim=1)\n",
        "        total += labels.size(0)\n",
        "        correct += (predicted == labels).sum().item()\n",
        "\n",
        "        # Angry detection calculation\n",
        "        angry_detected += ((predicted == 1) & (labels == 1)).sum().item()\n",
        "\n",
        "average_test_loss = test_loss / len(test_loader)\n",
        "accuracy = correct / total\n",
        "angry_det_percentage = angry_detected / total\n",
        "\n",
        "print(f'Test Loss: {average_test_loss:.4f}, Test Accuracy: {accuracy}, Angry Detection Percentage: {angry_det_percentage}')\n"
      ]
    },
    {
      "cell_type": "code",
      "source": [
        "import numpy as np\n",
        "import matplotlib.pyplot as plt\n",
        "\n",
        "# Load the data from the CSV file\n",
        "accuracy_per_epoch = np.loadtxt('/content/drive/My Drive/cnn_softmax_rep_ang/accuracy.csv', delimiter=',')\n",
        "# Load the data from the CSV files\n",
        "validation_loss_per_epoch = np.loadtxt('/content/drive/My Drive/cnn_softmax_rep_ang/validation_loss.csv', delimiter=',')\n",
        "trainingloss_per_epoch = np.loadtxt('/content/drive/My Drive/cnn_softmax_rep_ang/training_loss.csv', delimiter=',')\n",
        "\n",
        "# Plot for Validation Loss\n",
        "plt.figure(figsize=(8, 4))\n",
        "plt.plot(validation_loss_per_epoch, label='Validation Loss', color='red', linestyle='--')\n",
        "plt.xlabel('Epoch')\n",
        "plt.ylabel('Validation Loss')\n",
        "plt.title('Validation Loss per Epoch')\n",
        "plt.legend()\n",
        "plt.show()"
      ],
      "metadata": {
        "id": "nnlfMzXc1RxD",
        "colab": {
          "base_uri": "https://localhost:8080/",
          "height": 410
        },
        "outputId": "8587c872-bc70-4131-ba99-13a64830fba3"
      },
      "execution_count": 2,
      "outputs": [
        {
          "output_type": "display_data",
          "data": {
            "text/plain": [
              "<Figure size 800x400 with 1 Axes>"
            ],
            "image/png": "[encoded data removed]"
          },
          "metadata": {}
        }
      ]
    },
    {
      "cell_type": "code",
      "source": [
        "# Plot for Accuracy\n",
        "plt.figure(figsize=(8, 4))\n",
        "plt.plot(accuracy_per_epoch, label='Accuracy', color='blue', linestyle='-')\n",
        "plt.xlabel('Epoch')\n",
        "plt.ylabel('Accuracy')\n",
        "plt.title('Accuracy per Epoch')\n",
        "plt.legend()\n",
        "plt.show()"
      ],
      "metadata": {
        "id": "FOts7pCUhxTL",
        "colab": {
          "base_uri": "https://localhost:8080/",
          "height": 410
        },
        "outputId": "69a7b5c7-9a8a-4017-caf4-aab0f9fc3c07"
      },
      "execution_count": 3,
      "outputs": [
        {
          "output_type": "display_data",
          "data": {
            "text/plain": [
              "<Figure size 800x400 with 1 Axes>"
            ],
            "image/png": "[encoded data removed]"
          },
          "metadata": {}
        }
      ]
    },
    {
      "cell_type": "code",
      "source": [
        "# Plot the data using the index as the x-axis values\n",
        "plt.plot(trainingloss_per_epoch)\n",
        "plt.xlabel('Epoch')\n",
        "plt.ylabel('Trainingsloss')\n",
        "plt.title('Trainingsloss per Epoch')\n",
        "plt.show()"
      ],
      "metadata": {
        "colab": {
          "base_uri": "https://localhost:8080/",
          "height": 472
        },
        "id": "gNqAP5ZVifiU",
        "outputId": "7d5e70b0-36de-40f1-9c27-4a1a8f4607c7"
      },
      "execution_count": 4,
      "outputs": [
        {
          "output_type": "display_data",
          "data": {
            "text/plain": [
              "<Figure size 640x480 with 1 Axes>"
            ],
            "image/png": "[encoded data removed]"
          },
          "metadata": {}
        }
      ]
    }
  ],
  "metadata": {
    "colab": {
      "provenance": [],
      "include_colab_link": true
    },
    "kernelspec": {
      "display_name": "Python 3",
      "name": "python3"
    },
    "language_info": {
      "name": "python"
    }
  },
  "nbformat": 4,
  "nbformat_minor": 0
}