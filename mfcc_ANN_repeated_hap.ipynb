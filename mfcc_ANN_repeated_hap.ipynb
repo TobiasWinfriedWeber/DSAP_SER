{
  "cells": [
    {
      "cell_type": "markdown",
      "metadata": {
        "id": "view-in-github",
        "colab_type": "text"
      },
      "source": [
        "<a href=\"https://colab.research.google.com/github/TobiasWinfriedWeber/DSAP_SER/blob/main/mfcc_ANN_repeated_hap.ipynb\" target=\"_parent\"><img src=\"https://colab.research.google.com/assets/colab-badge.svg\" alt=\"Open In Colab\"/></a>"
      ]
    },
    {
      "cell_type": "code",
      "execution_count": 1,
      "metadata": {
        "id": "_fKBakYBRIdv",
        "colab": {
          "base_uri": "https://localhost:8080/",
          "height": 0
        },
        "outputId": "81fb8a92-4f23-41d3-fe83-e4caa66e64ce"
      },
      "outputs": [
        {
          "output_type": "stream",
          "name": "stdout",
          "text": [
            "Drive not mounted, so nothing to flush and unmount.\n",
            "Mounted at /content/drive\n"
          ]
        }
      ],
      "source": [
        "# Import basic libraries\n",
        "import matplotlib.pyplot as plt\n",
        "import numpy as np\n",
        "# Mount to drive\n",
        "from google.colab import drive\n",
        "drive.flush_and_unmount()\n",
        "drive.mount(\"/content/drive\")\n",
        "# Import torch\n",
        "import torch\n",
        "import torch.nn as nn\n",
        "import torch.optim as optim\n",
        "import os\n",
        "from scipy.io import wavfile\n",
        "import shutil\n",
        "import csv\n",
        "path = \"/content/drive\" # /content is pretty much the root. you can choose other path in your colab workspace\n",
        "os.chdir(path)\n"
      ]
    },
    {
      "cell_type": "code",
      "execution_count": 2,
      "metadata": {
        "colab": {
          "base_uri": "https://localhost:8080/",
          "height": 0
        },
        "id": "3AB9N93NikKi",
        "outputId": "1e6bc8ae-6f3f-4ead-d77d-60bfbc2d959b"
      },
      "outputs": [
        {
          "output_type": "stream",
          "name": "stdout",
          "text": [
            "We are using the following device for learning: cpu\n"
          ]
        }
      ],
      "source": [
        "device = 'cuda' if torch.cuda.is_available() else 'cpu'\n",
        "print(\"We are using the following device for learning:\",device)"
      ]
    },
    {
      "cell_type": "code",
      "execution_count": 4,
      "metadata": {
        "id": "SHqxm_WJ-HA1"
      },
      "outputs": [],
      "source": [
        "import torch.nn as nn\n",
        "import torch.optim as optim\n",
        "import torch\n",
        "import torchaudio\n",
        "from torch.utils.data import Dataset, DataLoader\n",
        "from torchvision.transforms import Compose\n",
        "import os\n",
        "import pandas as pd\n",
        "from sklearn.model_selection import train_test_split\n",
        "import numpy as np\n",
        "import math\n",
        "import os\n",
        "import torchaudio\n",
        "from torchaudio.transforms import MFCC\n",
        "from torch.utils.data import Dataset\n",
        "from torch.nn.utils.rnn import pad_sequence\n",
        "import librosa\n",
        "import numpy as np\n",
        "\n",
        "class SimpleFCNN(nn.Module):\n",
        "    def __init__(self, input_size, hidden_neurons):\n",
        "        super(SimpleFCNN, self).__init__()\n",
        "\n",
        "        # Fully connected (linear) layer\n",
        "        self.fc1 = nn.Linear(input_size, hidden_neurons)\n",
        "        # ReLU activation function for hidden layer\n",
        "        self.relu = nn.ReLU()\n",
        "        # Output layer\n",
        "        self.output_layer = nn.Linear(hidden_neurons, 2)  # Two output classes\n",
        "\n",
        "    def forward(self, x):\n",
        "        # Flatten for fully connected layer\n",
        "        x = x.view(x.size(0), -1)\n",
        "        # Fully connected layer\n",
        "        x = self.fc1(x)\n",
        "        x = self.relu(x)\n",
        "        # Output layer\n",
        "        x = self.output_layer(x)\n",
        "        x = nn.functional.softmax(x, dim=1)  # Apply softmax activation\n",
        "\n",
        "        return x"
      ]
    },
    {
      "cell_type": "code",
      "execution_count": 5,
      "metadata": {
        "id": "uKbeLlDYeYEJ"
      },
      "outputs": [],
      "source": [
        "# Install required packages\n",
        "import torch\n",
        "import torchaudio\n",
        "from torch.utils.data import Dataset, DataLoader\n",
        "from torchvision.transforms import Compose\n",
        "import os\n",
        "import pandas as pd\n",
        "from sklearn.model_selection import train_test_split\n",
        "\n",
        "# Load your CSV file\n",
        "#csv_path = \"/content/drive/My Drive/DSAP/BigProject/DATA/ANGRY_CLASSIFICATION/labels.csv\"\n",
        "csv_path = \"/content/drive/My Drive/DSAP/BigProject/DATA/HAPPY_CLASSIFICATION_SAME_REP/labels_sameprobability.csv\"\n",
        "df = pd.read_csv(csv_path)\n",
        "\n",
        "# Split the data into training, validation, and test sets\n",
        "# Shuffle the dataframe\n",
        "df = df.sample(frac=1, random_state=42)\n",
        "#df = df.head(4000)\n",
        "temp_df, test_df = train_test_split(df, test_size=0.2, random_state=42)\n",
        "train_df, val_df = train_test_split(temp_df, test_size=0.2, random_state=42)\n",
        "\n",
        "\n",
        "\n",
        "class AudioDataset(Dataset):\n",
        "    def __init__(self, dataframe, root_dir, transform=None):\n",
        "        self.dataframe = dataframe\n",
        "        self.root_dir = root_dir\n",
        "        self.transform = transform\n",
        "\n",
        "    def __len__(self):\n",
        "        return len(self.dataframe)\n",
        "\n",
        "    def __getitem__(self, idx):\n",
        "        file_name = os.path.join(self.root_dir, self.dataframe.iloc[idx, 0])\n",
        "        waveform, sample_rate = librosa.load(file_name)\n",
        "        label = torch.tensor(self.dataframe.iloc[idx, 1], dtype=torch.float32)  # Assuming labels are in the second column\n",
        "\n",
        "        # Normalize the waveform to be between 0 and 1\n",
        "        #\n",
        "\n",
        "        # Extract MFCC features\n",
        "        mfcc = librosa.feature.mfcc(y=waveform, sr=sample_rate, n_mfcc=13, win_length = 400, n_fft=512, hop_length=30)\n",
        "        mfcc = 2 * (mfcc - mfcc.min()) / (mfcc.max() - mfcc.min()) - 1\n",
        "        #mfcc = (mfcc - mfcc.min()) / (mfcc.max() - mfcc.min())\n",
        "\n",
        "        # Convert to PyTorch tensor\n",
        "        mfcc_tensor = torch.tensor(mfcc, dtype=torch.float32)\n",
        "\n",
        "        return mfcc_tensor, label\n",
        "\n",
        "\n",
        "# Set the path to your directory containing audio files\n",
        "#audio_dir = \"/content/drive/My Drive/DSAP/BigProject/DATA/CremaD/AudioWAV_samelength\"\n",
        "audio_dir = \"/content/drive/My Drive/DSAP/BigProject/DATA/CremaD/HAP_SAMEPROP_REP\"\n",
        "# Create instances of the custom dataset for training, validation, and test\n",
        "train_dataset = AudioDataset(dataframe=train_df, root_dir=audio_dir)\n",
        "val_dataset = AudioDataset(dataframe=val_df, root_dir=audio_dir)\n",
        "test_dataset = AudioDataset(dataframe=test_df, root_dir=audio_dir)\n",
        "\n",
        "# Define data loaders\n",
        "#train_loader = DataLoader(train_dataset, batch_size=32, shuffle=True)\n",
        "val_loader = DataLoader(val_dataset, shuffle=False)\n",
        "test_loader = DataLoader(test_dataset, batch_size=1, shuffle=False)"
      ]
    },
    {
      "cell_type": "code",
      "execution_count": 6,
      "metadata": {
        "colab": {
          "base_uri": "https://localhost:8080/",
          "height": 0
        },
        "id": "PafW9NIv-VBx",
        "outputId": "d4759cbd-fb21-419d-c85d-160d396cf6d0"
      },
      "outputs": [
        {
          "output_type": "stream",
          "name": "stdout",
          "text": [
            "Kernel size is : 400 Samples\n"
          ]
        }
      ],
      "source": [
        "## Settings\n",
        "sampling_rate = 16e3 #was tested before\n",
        "#Calculate the number of samples per window for a 25ms window size\n",
        "kernelCON_len = int(0.025 * sampling_rate)\n",
        "# move window of one fourth of kernel size\n",
        "shiftCON_size = int(0.25 * kernelCON_len)\n",
        "print(f\"Kernel size is : {kernelCON_len} Samples\")\n",
        "\n",
        "hidden_neurons = 64\n",
        "num_epochs = 10000"
      ]
    },
    {
      "cell_type": "code",
      "execution_count": 7,
      "metadata": {
        "id": "iGcYfRmT-O3y"
      },
      "outputs": [],
      "source": [
        "# Create an instance of the model, define loss\n",
        "model = SimpleFCNN(input_size = 47788, hidden_neurons=hidden_neurons)\n",
        "#model = CNN(in_size=5513, hidden_neurons=hidden_neurons, filter_len=3, filter_shift = 3, maxPoolSize=maxPoolLen, maxPoolShift=maxPoolStride)\n",
        "#optimizer = optim.Adam(model.parameters(), lr=0.9)\n",
        "optimizer = optim.SGD(model.parameters(), lr=0.01, momentum=0.9) # in paper: sgd 0.9, 0.9\n",
        "lr_scheduler = optim.lr_scheduler.StepLR(optimizer, step_size=15, gamma=0.2) # gamma = 0.2\n",
        "model.to( device )\n",
        "criterion = nn.CrossEntropyLoss()\n",
        "#criterion = nn.MSELoss()\n",
        "\n",
        "# Early stopping parameters\n",
        "patience = 50  # Number of epochs with no improvement after which training will be stopped\n",
        "best_val_loss = float('inf')\n",
        "counter_no_improve = 0\n",
        "\n",
        "# Save parameters\n",
        "trainingloss_per_epoch = []\n",
        "validationloss_per_epoch = []\n",
        "accuracy_per_epoch = []"
      ]
    },
    {
      "cell_type": "code",
      "execution_count": null,
      "metadata": {
        "id": "pcxJ5XgtfHnt",
        "colab": {
          "base_uri": "https://localhost:8080/"
        },
        "outputId": "069ce934-d6f5-4691-f4fb-7e758ff36007"
      },
      "outputs": [
        {
          "output_type": "stream",
          "name": "stdout",
          "text": [
            "Number batch 1 of 1\n",
            "Epoch [1/10000], Loss: 0.9134, Validation Loss: 0.7267, Accuracy: 46.02%\n",
            "Number batch 1 of 1\n",
            "Epoch [2/10000], Loss: 0.8576, Validation Loss: 0.7141, Accuracy: 46.02%\n",
            "Number batch 1 of 1\n",
            "Epoch [3/10000], Loss: 0.6730, Validation Loss: 0.6905, Accuracy: 53.98%\n",
            "Number batch 1 of 1\n",
            "Epoch [4/10000], Loss: 0.6848, Validation Loss: 0.6904, Accuracy: 53.98%\n",
            "Number batch 1 of 1\n",
            "Epoch [5/10000], Loss: 0.8452, Validation Loss: 0.7085, Accuracy: 46.02%\n",
            "Number batch 1 of 1\n",
            "Epoch [6/10000], Loss: 0.8681, Validation Loss: 0.7112, Accuracy: 46.02%\n",
            "Number batch 1 of 1\n",
            "Epoch [7/10000], Loss: 0.7361, Validation Loss: 0.6914, Accuracy: 54.42%\n",
            "Number batch 1 of 1\n",
            "Epoch [8/10000], Loss: 0.7035, Validation Loss: 0.6885, Accuracy: 56.19%\n",
            "Number batch 1 of 1\n",
            "Epoch [9/10000], Loss: 0.7321, Validation Loss: 0.6898, Accuracy: 59.29%\n",
            "Number batch 1 of 1\n",
            "Epoch [10/10000], Loss: 0.7796, Validation Loss: 0.6941, Accuracy: 46.90%\n",
            "Number batch 1 of 1\n",
            "Epoch [11/10000], Loss: 0.8263, Validation Loss: 0.6999, Accuracy: 45.13%\n",
            "Number batch 1 of 1\n",
            "Epoch [12/10000], Loss: 0.8553, Validation Loss: 0.7042, Accuracy: 46.02%\n",
            "Number batch 1 of 1\n",
            "Epoch [13/10000], Loss: 0.8594, Validation Loss: 0.7045, Accuracy: 46.02%\n",
            "Number batch 1 of 1\n",
            "Epoch [14/10000], Loss: 0.8401, Validation Loss: 0.7009, Accuracy: 45.58%\n",
            "Number batch 1 of 1\n",
            "Epoch [15/10000], Loss: 0.8065, Validation Loss: 0.6957, Accuracy: 48.23%\n",
            "Number batch 1 of 1\n",
            "Epoch [16/10000], Loss: 0.7997, Validation Loss: 0.6948, Accuracy: 46.90%\n",
            "Number batch 1 of 1\n",
            "Epoch [17/10000], Loss: 0.7933, Validation Loss: 0.6939, Accuracy: 48.23%\n",
            "Number batch 1 of 1\n",
            "Epoch [18/10000], Loss: 0.7878, Validation Loss: 0.6932, Accuracy: 48.67%\n",
            "Number batch 1 of 1\n",
            "Epoch [19/10000], Loss: 0.7835, Validation Loss: 0.6927, Accuracy: 49.12%\n",
            "Number batch 1 of 1\n",
            "Epoch [20/10000], Loss: 0.7808, Validation Loss: 0.6923, Accuracy: 49.56%\n",
            "Number batch 1 of 1\n",
            "Epoch [21/10000], Loss: 0.7796, Validation Loss: 0.6921, Accuracy: 50.00%\n",
            "Number batch 1 of 1\n",
            "Epoch [22/10000], Loss: 0.7800, Validation Loss: 0.6921, Accuracy: 50.00%\n",
            "Number batch 1 of 1\n",
            "Epoch [23/10000], Loss: 0.7818, Validation Loss: 0.6922, Accuracy: 50.00%\n",
            "Number batch 1 of 1\n",
            "Epoch [24/10000], Loss: 0.7824, Validation Loss: 0.6922, Accuracy: 49.56%\n",
            "Number batch 1 of 1\n",
            "Epoch [25/10000], Loss: 0.7832, Validation Loss: 0.6923, Accuracy: 49.56%\n",
            "Number batch 1 of 1\n",
            "Epoch [26/10000], Loss: 0.7841, Validation Loss: 0.6924, Accuracy: 49.12%\n",
            "Number batch 1 of 1\n",
            "Epoch [27/10000], Loss: 0.7852, Validation Loss: 0.6925, Accuracy: 49.12%\n",
            "Number batch 1 of 1\n",
            "Epoch [28/10000], Loss: 0.7864, Validation Loss: 0.6926, Accuracy: 49.12%\n",
            "Number batch 1 of 1\n",
            "Epoch [29/10000], Loss: 0.7877, Validation Loss: 0.6927, Accuracy: 49.12%\n",
            "Number batch 1 of 1\n",
            "Epoch [30/10000], Loss: 0.7890, Validation Loss: 0.6929, Accuracy: 48.67%\n",
            "Number batch 1 of 1\n",
            "Epoch [31/10000], Loss: 0.7893, Validation Loss: 0.6929, Accuracy: 48.67%\n",
            "Number batch 1 of 1\n",
            "Epoch [32/10000], Loss: 0.7895, Validation Loss: 0.6929, Accuracy: 48.67%\n",
            "Number batch 1 of 1\n",
            "Epoch [33/10000], Loss: 0.7898, Validation Loss: 0.6929, Accuracy: 48.67%\n",
            "Number batch 1 of 1\n",
            "Epoch [34/10000], Loss: 0.7901, Validation Loss: 0.6930, Accuracy: 48.23%\n",
            "Number batch 1 of 1\n",
            "Epoch [35/10000], Loss: 0.7904, Validation Loss: 0.6930, Accuracy: 48.23%\n",
            "Number batch 1 of 1\n",
            "Epoch [36/10000], Loss: 0.7907, Validation Loss: 0.6930, Accuracy: 48.67%\n",
            "Number batch 1 of 1\n",
            "Epoch [37/10000], Loss: 0.7910, Validation Loss: 0.6931, Accuracy: 48.67%\n",
            "Number batch 1 of 1\n",
            "Epoch [38/10000], Loss: 0.7913, Validation Loss: 0.6931, Accuracy: 48.67%\n",
            "Number batch 1 of 1\n",
            "Epoch [39/10000], Loss: 0.7913, Validation Loss: 0.6931, Accuracy: 48.67%\n",
            "Number batch 1 of 1\n",
            "Epoch [40/10000], Loss: 0.7914, Validation Loss: 0.6931, Accuracy: 48.67%\n",
            "Number batch 1 of 1\n",
            "Epoch [41/10000], Loss: 0.7914, Validation Loss: 0.6931, Accuracy: 48.67%\n",
            "Number batch 1 of 1\n",
            "Epoch [42/10000], Loss: 0.7915, Validation Loss: 0.6931, Accuracy: 48.67%\n",
            "Number batch 1 of 1\n",
            "Epoch [43/10000], Loss: 0.7915, Validation Loss: 0.6931, Accuracy: 48.67%\n",
            "Number batch 1 of 1\n",
            "Epoch [44/10000], Loss: 0.7916, Validation Loss: 0.6931, Accuracy: 48.67%\n",
            "Number batch 1 of 1\n",
            "Epoch [45/10000], Loss: 0.7916, Validation Loss: 0.6931, Accuracy: 48.67%\n",
            "Number batch 1 of 1\n",
            "Epoch [46/10000], Loss: 0.7916, Validation Loss: 0.6931, Accuracy: 48.67%\n",
            "Number batch 1 of 1\n",
            "Epoch [47/10000], Loss: 0.7917, Validation Loss: 0.6931, Accuracy: 48.67%\n",
            "Number batch 1 of 1\n",
            "Epoch [48/10000], Loss: 0.7917, Validation Loss: 0.6931, Accuracy: 48.67%\n",
            "Number batch 1 of 1\n",
            "Epoch [49/10000], Loss: 0.7917, Validation Loss: 0.6931, Accuracy: 48.67%\n",
            "Number batch 1 of 1\n",
            "Epoch [50/10000], Loss: 0.7917, Validation Loss: 0.6931, Accuracy: 48.67%\n",
            "Number batch 1 of 1\n",
            "Epoch [51/10000], Loss: 0.7917, Validation Loss: 0.6931, Accuracy: 48.67%\n",
            "Number batch 1 of 1\n",
            "Epoch [52/10000], Loss: 0.7917, Validation Loss: 0.6931, Accuracy: 48.67%\n",
            "Number batch 1 of 1\n",
            "Epoch [53/10000], Loss: 0.7917, Validation Loss: 0.6931, Accuracy: 48.67%\n",
            "Number batch 1 of 1\n",
            "Epoch [54/10000], Loss: 0.7917, Validation Loss: 0.6931, Accuracy: 48.67%\n"
          ]
        }
      ],
      "source": [
        "# Training loop\n",
        "#max_grad_norm = 100000000.0\n",
        "dynamic_batch_size = 902\n",
        "from torch.nn.utils import clip_grad_norm_\n",
        "import torch\n",
        "from torch.utils.data import DataLoader\n",
        "from torch.utils.tensorboard import SummaryWriter\n",
        "import os\n",
        "\n",
        "\n",
        "for epoch in range(num_epochs):\n",
        "    model.train()\n",
        "    i=0\n",
        "\n",
        "      # Set your initial batch size\n",
        "    train_loader_epoch = DataLoader(train_dataset, batch_size=dynamic_batch_size, shuffle=True)\n",
        "    lenTrainLoader = len(train_loader_epoch)\n",
        "    for batch in train_loader_epoch:\n",
        "        input_save, label_save = batch\n",
        "        if not torch.isnan(input_save.unsqueeze(1)).any():\n",
        "          inputs, labels = batch\n",
        "          inputs, labels = inputs.to(device), labels.to(device)\n",
        "\n",
        "          # Zero the gradients\n",
        "          optimizer.zero_grad()\n",
        "\n",
        "          # Forward pass\n",
        "          outputs = model(inputs)\n",
        "          #outputs = torch.sigmoid(outputs)\n",
        "          #if i%1 == 0 or i==0:\n",
        "            #print(labels.unsqueeze(1))\n",
        "            #print(\"#######################################################\")\n",
        "          #print(outputs)\n",
        "          #print(labels.long())\n",
        "            #print(labels)\n",
        "            #print(\"#######################################################\")\n",
        "          print(\"Number batch \" + str(i+1) + \" of \" + str(lenTrainLoader))\n",
        "          #if math.isnan(outputs):\n",
        "          #  print(input_save)\n",
        "          # Calculate the loss\n",
        "          loss = criterion(outputs, labels.long())\n",
        "\n",
        "\n",
        "\n",
        "          # Backward pass\n",
        "          loss.backward()\n",
        "          #clip_grad_norm_(model.parameters(), max_grad_norm)\n",
        "\n",
        "          # Update weights\n",
        "          optimizer.step()\n",
        "\n",
        "          i += 1\n",
        "\n",
        "    # Validation loop\n",
        "    model.eval()\n",
        "    val_loss = 0.0\n",
        "    correct = 0\n",
        "    total = 0\n",
        "\n",
        "    with torch.no_grad():\n",
        "        for batch in val_loader:\n",
        "            inputs, labels = batch\n",
        "            inputs, labels = inputs.to(device), labels.to(device)\n",
        "\n",
        "            # Forward pass\n",
        "            outputs = model(inputs)\n",
        "            #outputs = torch.sigmoid(outputs)\n",
        "\n",
        "            # Calculate the loss\n",
        "            #loss = criterion(outputs, labels.long())\n",
        "            loss = criterion(outputs, labels.long())\n",
        "            val_loss += loss.item()\n",
        "\n",
        "            # Accuracy calculation\n",
        "            predicted = torch.argmax(outputs, dim=1)\n",
        "            #predicted = torch.round(outputs)\n",
        "            total += labels.size(0)\n",
        "            correct += (predicted == labels.unsqueeze(1)).sum().item()\n",
        "\n",
        "    average_val_loss = val_loss / len(val_loader)\n",
        "    accuracy = correct / total\n",
        "    lr_scheduler.step()\n",
        "    print(f'Epoch [{epoch + 1}/{num_epochs}], Loss: {loss.item():.4f}, Validation Loss: {average_val_loss:.4f}, Accuracy: {accuracy * 100:.2f}%')\n",
        "    # Append values to the existing lists\n",
        "    trainingloss_per_epoch.append(loss.cpu().item())\n",
        "    validationloss_per_epoch.append(average_val_loss)\n",
        "    accuracy_per_epoch.append(accuracy)\n",
        "    np.savetxt('/content/drive/My Drive/mfcc_ANN_repeated_hap/training_loss.csv', trainingloss_per_epoch, delimiter=',')\n",
        "    np.savetxt('/content/drive/My Drive/mfcc_ANN_repeated_hap/validation_loss.csv', validationloss_per_epoch, delimiter=',')\n",
        "    np.savetxt('/content/drive/My Drive/mfcc_ANN_repeated_hap/accuracy.csv', accuracy_per_epoch, delimiter=',')\n",
        "    # Learning rate scheduling\n",
        "    lr_scheduler.step()\n",
        "\n",
        "\n",
        "    # Early stopping\n",
        "    if average_val_loss < best_val_loss:\n",
        "        torch.save(model.state_dict(), '/content/drive/My Drive/mfcc_ANN_repeated_hap/CNN_PAPER.pth')\n",
        "\n",
        "        #if dynamic_batch_size*1.5<598:\n",
        "        #  dynamic_batch_size = int(dynamic_batch_size*1.5)\n",
        "        best_val_loss = average_val_loss\n",
        "        counter_no_improve = 0\n",
        "    else:\n",
        "        counter_no_improve += 1\n",
        "\n",
        "    #if counter_no_improve >= patience:\n",
        "    #    print(f'Early stopping! No improvement for {patience} consecutive epochs.')\n",
        "    #    break\n",
        "print('Training finished.')"
      ]
    },
    {
      "cell_type": "code",
      "execution_count": null,
      "metadata": {
        "id": "Pk7hEHpYq65w",
        "colab": {
          "base_uri": "https://localhost:8080/"
        },
        "outputId": "4a425a84-bde5-4121-8d00-e65c05b6a915"
      },
      "outputs": [
        {
          "output_type": "stream",
          "name": "stdout",
          "text": [
            "0 / 282\n",
            "100 / 282\n",
            "200 / 282\n",
            "Test Loss: 0.6844, Test Accuracy: 0.6382978723404256, Angry Detection Percentage: 0.5035460992907801\n"
          ]
        }
      ],
      "source": [
        "model.load_state_dict(torch.load('/content/drive/My Drive/mfcc_ANN_repeated_hap/CNN_PAPER.pth', map_location=torch.device('cpu')))\n",
        "model.eval()  # Set the model to evaluation mode\n",
        "\n",
        "test_loss = 0.0\n",
        "correct = 0\n",
        "total = 0\n",
        "angry_detected = 0\n",
        "\n",
        "with torch.no_grad():\n",
        "    i = 0\n",
        "    len_test = len(test_loader)\n",
        "    for batch in test_loader:  # Assuming you have a DataLoader for your test set\n",
        "        inputs, labels = batch\n",
        "        inputs, labels = inputs.to(device), labels.to(device)\n",
        "        if i % 100 == 0:\n",
        "            print(str(i) + \" / \" + str(len_test))\n",
        "        i += 1\n",
        "\n",
        "        # Forward pass\n",
        "        probs = model(inputs)\n",
        "        loss = criterion(probs, labels.long())  # Use .long() for integer labels in CrossEntropyLoss\n",
        "        test_loss += loss.item()\n",
        "\n",
        "        # Accuracy calculation\n",
        "        predicted = torch.argmax(probs, dim=1)\n",
        "        total += labels.size(0)\n",
        "        correct += (predicted == labels).sum().item()\n",
        "\n",
        "        # Angry detection calculation\n",
        "        angry_detected += ((predicted == 1) & (labels == 1)).sum().item()\n",
        "\n",
        "average_test_loss = test_loss / len(test_loader)\n",
        "accuracy = correct / total\n",
        "angry_det_percentage = angry_detected / total\n",
        "\n",
        "print(f'Test Loss: {average_test_loss:.4f}, Test Accuracy: {accuracy}, Angry Detection Percentage: {angry_det_percentage}')\n"
      ]
    },
    {
      "cell_type": "code",
      "execution_count": 9,
      "metadata": {
        "id": "nnlfMzXc1RxD",
        "colab": {
          "base_uri": "https://localhost:8080/",
          "height": 410
        },
        "outputId": "5642f0e3-56c5-48cc-9b36-36ff01285005"
      },
      "outputs": [
        {
          "output_type": "display_data",
          "data": {
            "text/plain": [
              "<Figure size 800x400 with 1 Axes>"
            ],
            "image/png": "[encoded data removed]"
          },
          "metadata": {}
        }
      ],
      "source": [
        "import numpy as np\n",
        "import matplotlib.pyplot as plt\n",
        "\n",
        "# Load the data from the CSV file\n",
        "accuracy_per_epoch = np.loadtxt('/content/drive/My Drive/mfcc_ANN_repeated_hap/accuracy.csv', delimiter=',')\n",
        "# Load the data from the CSV files\n",
        "validation_loss_per_epoch = np.loadtxt('/content/drive/My Drive/mfcc_ANN_repeated_hap/validation_loss.csv', delimiter=',')\n",
        "trainingloss_per_epoch = np.loadtxt('/content/drive/My Drive/mfcc_ANN_repeated_hap/training_loss.csv', delimiter=',')\n",
        "\n",
        "# Plot for Validation Loss\n",
        "plt.figure(figsize=(8, 4))\n",
        "plt.plot(validation_loss_per_epoch, label='Validation Loss', color='red', linestyle='--')\n",
        "plt.xlabel('Epoch')\n",
        "plt.ylabel('Validation Loss')\n",
        "plt.title('Validation Loss per Epoch')\n",
        "plt.legend()\n",
        "plt.show()"
      ]
    },
    {
      "cell_type": "code",
      "source": [
        "# Plot for Accuracy\n",
        "plt.figure(figsize=(8, 4))\n",
        "plt.plot(accuracy_per_epoch, label='Accuracy', color='blue', linestyle='-')\n",
        "plt.xlabel('Epoch')\n",
        "plt.ylabel('Accuracy')\n",
        "plt.title('Accuracy per Epoch')\n",
        "plt.legend()\n",
        "plt.show()"
      ],
      "metadata": {
        "colab": {
          "base_uri": "https://localhost:8080/",
          "height": 410
        },
        "id": "zc-1n3gBW8P-",
        "outputId": "6bbc6dc9-db15-4239-ecca-8d66dd19a4fb"
      },
      "execution_count": 10,
      "outputs": [
        {
          "output_type": "display_data",
          "data": {
            "text/plain": [
              "<Figure size 800x400 with 1 Axes>"
            ],
            "image/png": "[encoded data removed]"
          },
          "metadata": {}
        }
      ]
    },
    {
      "cell_type": "code",
      "execution_count": 11,
      "metadata": {
        "id": "FOts7pCUhxTL",
        "colab": {
          "base_uri": "https://localhost:8080/",
          "height": 472
        },
        "outputId": "e17253e5-7747-412e-fa01-8903745d172c"
      },
      "outputs": [
        {
          "output_type": "display_data",
          "data": {
            "text/plain": [
              "<Figure size 640x480 with 1 Axes>"
            ],
            "image/png": "[encoded data removed]"
          },
          "metadata": {}
        }
      ],
      "source": [
        "# Plot the data using the index as the x-axis values\n",
        "plt.plot(trainingloss_per_epoch)\n",
        "plt.xlabel('Epoch')\n",
        "plt.ylabel('Trainingsloss')\n",
        "plt.title('Trainingsloss per Epoch')\n",
        "plt.show()"
      ]
    }
  ],
  "metadata": {
    "colab": {
      "provenance": [],
      "include_colab_link": true
    },
    "kernelspec": {
      "display_name": "Python 3",
      "name": "python3"
    },
    "language_info": {
      "name": "python"
    }
  },
  "nbformat": 4,
  "nbformat_minor": 0
}