{
  "cells": [
    {
      "cell_type": "markdown",
      "metadata": {
        "id": "view-in-github",
        "colab_type": "text"
      },
      "source": [
        "<a href=\"https://colab.research.google.com/github/TobiasWinfriedWeber/DSAP_SER/blob/main/mfcc_ANN_repeated_ang.ipynb\" target=\"_parent\"><img src=\"https://colab.research.google.com/assets/colab-badge.svg\" alt=\"Open In Colab\"/></a>"
      ]
    },
    {
      "cell_type": "code",
      "execution_count": null,
      "metadata": {
        "id": "_fKBakYBRIdv",
        "colab": {
          "base_uri": "https://localhost:8080/"
        },
        "outputId": "27237d77-8f74-4ee6-cc84-6839e402a779"
      },
      "outputs": [
        {
          "output_type": "stream",
          "name": "stdout",
          "text": [
            "Drive not mounted, so nothing to flush and unmount.\n",
            "Mounted at /content/drive\n"
          ]
        }
      ],
      "source": [
        "# Import basic libraries\n",
        "import matplotlib.pyplot as plt\n",
        "import numpy as np\n",
        "# Mount to drive\n",
        "from google.colab import drive\n",
        "drive.flush_and_unmount()\n",
        "drive.mount(\"/content/drive\")\n",
        "# Import torch\n",
        "import torch\n",
        "import torch.nn as nn\n",
        "import torch.optim as optim\n",
        "import os\n",
        "from scipy.io import wavfile\n",
        "import shutil\n",
        "import csv\n",
        "path = \"/content/drive\" # /content is pretty much the root. you can choose other path in your colab workspace\n",
        "os.chdir(path)\n"
      ]
    },
    {
      "cell_type": "code",
      "execution_count": null,
      "metadata": {
        "colab": {
          "base_uri": "https://localhost:8080/"
        },
        "id": "3AB9N93NikKi",
        "outputId": "5672438f-ddd1-415e-dca1-f89203b6e1d5"
      },
      "outputs": [
        {
          "output_type": "stream",
          "name": "stdout",
          "text": [
            "We are using the following device for learning: cpu\n"
          ]
        }
      ],
      "source": [
        "device = 'cuda' if torch.cuda.is_available() else 'cpu'\n",
        "print(\"We are using the following device for learning:\",device)"
      ]
    },
    {
      "cell_type": "code",
      "execution_count": null,
      "metadata": {
        "id": "SHqxm_WJ-HA1"
      },
      "outputs": [],
      "source": [
        "import torch.nn as nn\n",
        "import torch.optim as optim\n",
        "import torch\n",
        "import torchaudio\n",
        "from torch.utils.data import Dataset, DataLoader\n",
        "from torchvision.transforms import Compose\n",
        "import os\n",
        "import pandas as pd\n",
        "from sklearn.model_selection import train_test_split\n",
        "import numpy as np\n",
        "import math\n",
        "import os\n",
        "import torchaudio\n",
        "from torchaudio.transforms import MFCC\n",
        "from torch.utils.data import Dataset\n",
        "from torch.nn.utils.rnn import pad_sequence\n",
        "import librosa\n",
        "import numpy as np\n",
        "\n",
        "class SimpleFCNN(nn.Module):\n",
        "    def __init__(self, input_size, hidden_neurons):\n",
        "        super(SimpleFCNN, self).__init__()\n",
        "\n",
        "        # Fully connected (linear) layer\n",
        "        self.fc1 = nn.Linear(input_size, hidden_neurons)\n",
        "        # ReLU activation function for hidden layer\n",
        "        self.relu = nn.ReLU()\n",
        "        # Output layer\n",
        "        self.output_layer = nn.Linear(hidden_neurons, 2)  # Two output classes\n",
        "\n",
        "    def forward(self, x):\n",
        "        # Flatten for fully connected layer\n",
        "        x = x.view(x.size(0), -1)\n",
        "        # Fully connected layer\n",
        "        x = self.fc1(x)\n",
        "        x = self.relu(x)\n",
        "        # Output layer\n",
        "        x = self.output_layer(x)\n",
        "        x = nn.functional.softmax(x, dim=1)  # Apply softmax activation\n",
        "\n",
        "        return x"
      ]
    },
    {
      "cell_type": "markdown",
      "metadata": {
        "id": "9zycSYlk-KhR"
      },
      "source": [
        "**Perform Training**"
      ]
    },
    {
      "cell_type": "code",
      "execution_count": null,
      "metadata": {
        "id": "uKbeLlDYeYEJ"
      },
      "outputs": [],
      "source": [
        "# Install required packages\n",
        "import torch\n",
        "import torchaudio\n",
        "from torch.utils.data import Dataset, DataLoader\n",
        "from torchvision.transforms import Compose\n",
        "import os\n",
        "import pandas as pd\n",
        "from sklearn.model_selection import train_test_split\n",
        "\n",
        "# Load your CSV file\n",
        "#csv_path = \"/content/drive/My Drive/DSAP/BigProject/DATA/ANGRY_CLASSIFICATION/labels.csv\"\n",
        "csv_path = \"/content/drive/My Drive/DSAP/BigProject/DATA/ANGRY_CLASSIFICATION_SAME_REP/labels_sameprobability.csv\"\n",
        "df = pd.read_csv(csv_path)\n",
        "\n",
        "# Split the data into training, validation, and test sets\n",
        "# Shuffle the dataframe\n",
        "df = df.sample(frac=1, random_state=42)\n",
        "#df = df.head(4000)\n",
        "temp_df, test_df = train_test_split(df, test_size=0.2, random_state=42)\n",
        "train_df, val_df = train_test_split(temp_df, test_size=0.2, random_state=42)\n",
        "\n",
        "\n",
        "\n",
        "class AudioDataset(Dataset):\n",
        "    def __init__(self, dataframe, root_dir, transform=None):\n",
        "        self.dataframe = dataframe\n",
        "        self.root_dir = root_dir\n",
        "        self.transform = transform\n",
        "\n",
        "    def __len__(self):\n",
        "        return len(self.dataframe)\n",
        "\n",
        "    def __getitem__(self, idx):\n",
        "        file_name = os.path.join(self.root_dir, self.dataframe.iloc[idx, 0])\n",
        "        waveform, sample_rate = librosa.load(file_name)\n",
        "        label = torch.tensor(self.dataframe.iloc[idx, 1], dtype=torch.float32)  # Assuming labels are in the second column\n",
        "\n",
        "        # Normalize the waveform to be between 0 and 1\n",
        "        #\n",
        "\n",
        "        # Extract MFCC features\n",
        "        mfcc = librosa.feature.mfcc(y=waveform, sr=sample_rate, n_mfcc=13, win_length = 400, n_fft=512, hop_length=30)\n",
        "        mfcc = 2 * (mfcc - mfcc.min()) / (mfcc.max() - mfcc.min()) - 1\n",
        "        #mfcc = (mfcc - mfcc.min()) / (mfcc.max() - mfcc.min())\n",
        "\n",
        "        # Convert to PyTorch tensor\n",
        "        mfcc_tensor = torch.tensor(mfcc, dtype=torch.float32)\n",
        "\n",
        "        return mfcc_tensor, label\n",
        "\n",
        "\n",
        "# Set the path to your directory containing audio files\n",
        "#audio_dir = \"/content/drive/My Drive/DSAP/BigProject/DATA/CremaD/AudioWAV_samelength\"\n",
        "audio_dir = \"/content/drive/My Drive/DSAP/BigProject/DATA/CremaD/ANG_SAMEPROP_REP\"\n",
        "# Create instances of the custom dataset for training, validation, and test\n",
        "train_dataset = AudioDataset(dataframe=train_df, root_dir=audio_dir)\n",
        "val_dataset = AudioDataset(dataframe=val_df, root_dir=audio_dir)\n",
        "test_dataset = AudioDataset(dataframe=test_df, root_dir=audio_dir)\n",
        "\n",
        "# Define data loaders\n",
        "#train_loader = DataLoader(train_dataset, batch_size=32, shuffle=True)\n",
        "val_loader = DataLoader(val_dataset, shuffle=False)\n",
        "test_loader = DataLoader(test_dataset, batch_size=1, shuffle=False)"
      ]
    },
    {
      "cell_type": "code",
      "execution_count": null,
      "metadata": {
        "id": "PafW9NIv-VBx",
        "colab": {
          "base_uri": "https://localhost:8080/"
        },
        "outputId": "0a318fe6-a931-4b74-a485-490fb3f73fc3"
      },
      "outputs": [
        {
          "output_type": "stream",
          "name": "stdout",
          "text": [
            "Kernel size is : 400 Samples\n"
          ]
        }
      ],
      "source": [
        "## Settings\n",
        "sampling_rate = 16e3 #was tested before\n",
        "#Calculate the number of samples per window for a 25ms window size\n",
        "kernelCON_len = int(0.025 * sampling_rate)\n",
        "# move window of one fourth of kernel size\n",
        "shiftCON_size = int(0.25 * kernelCON_len)\n",
        "print(f\"Kernel size is : {kernelCON_len} Samples\")\n",
        "\n",
        "hidden_neurons = 64\n",
        "num_epochs = 10000"
      ]
    },
    {
      "cell_type": "code",
      "execution_count": null,
      "metadata": {
        "id": "iGcYfRmT-O3y"
      },
      "outputs": [],
      "source": [
        "# Create an instance of the model, define loss\n",
        "model = SimpleFCNN(input_size = 47788, hidden_neurons=hidden_neurons)\n",
        "#model = CNN(in_size=5513, hidden_neurons=hidden_neurons, filter_len=3, filter_shift = 3, maxPoolSize=maxPoolLen, maxPoolShift=maxPoolStride)\n",
        "#optimizer = optim.Adam(model.parameters(), lr=0.9)\n",
        "optimizer = optim.SGD(model.parameters(), lr=0.01, momentum=0.9) # in paper: sgd 0.9, 0.9\n",
        "lr_scheduler = optim.lr_scheduler.StepLR(optimizer, step_size=15, gamma=0.2) # gamma = 0.2\n",
        "model.to( device )\n",
        "criterion = nn.CrossEntropyLoss()\n",
        "#criterion = nn.MSELoss()\n",
        "\n",
        "# Early stopping parameters\n",
        "patience = 50  # Number of epochs with no improvement after which training will be stopped\n",
        "best_val_loss = float('inf')\n",
        "counter_no_improve = 0\n",
        "\n",
        "# Save parameters\n",
        "trainingloss_per_epoch = []\n",
        "validationloss_per_epoch = []\n",
        "accuracy_per_epoch = []"
      ]
    },
    {
      "cell_type": "code",
      "execution_count": null,
      "metadata": {
        "colab": {
          "base_uri": "https://localhost:8080/",
          "height": 1000
        },
        "id": "pcxJ5XgtfHnt",
        "outputId": "92529d5a-ae99-4440-d3a7-7f1d87907ccf"
      },
      "outputs": [
        {
          "output_type": "stream",
          "name": "stdout",
          "text": [
            "Number batch 1 of 1\n",
            "Epoch [1/10000], Loss: 0.7438, Validation Loss: 0.6967, Accuracy: 46.00%\n",
            "Number batch 1 of 1\n",
            "Epoch [2/10000], Loss: 0.7339, Validation Loss: 0.6920, Accuracy: 46.00%\n",
            "Number batch 1 of 1\n",
            "Epoch [3/10000], Loss: 0.6785, Validation Loss: 0.6825, Accuracy: 73.33%\n",
            "Number batch 1 of 1\n",
            "Epoch [4/10000], Loss: 0.7176, Validation Loss: 0.6803, Accuracy: 57.33%\n",
            "Number batch 1 of 1\n",
            "Epoch [5/10000], Loss: 0.7013, Validation Loss: 0.6722, Accuracy: 64.00%\n",
            "Number batch 1 of 1\n",
            "Epoch [6/10000], Loss: 0.6676, Validation Loss: 0.6621, Accuracy: 68.67%\n",
            "Number batch 1 of 1\n",
            "Epoch [7/10000], Loss: 0.6898, Validation Loss: 0.6570, Accuracy: 66.67%\n",
            "Number batch 1 of 1\n",
            "Epoch [8/10000], Loss: 0.6656, Validation Loss: 0.6474, Accuracy: 68.00%\n",
            "Number batch 1 of 1\n",
            "Epoch [9/10000], Loss: 0.6618, Validation Loss: 0.6456, Accuracy: 68.00%\n",
            "Number batch 1 of 1\n",
            "Epoch [10/10000], Loss: 0.6598, Validation Loss: 0.6438, Accuracy: 67.33%\n",
            "Number batch 1 of 1\n",
            "Epoch [11/10000], Loss: 0.6581, Validation Loss: 0.6421, Accuracy: 67.33%\n",
            "Number batch 1 of 1\n",
            "Epoch [12/10000], Loss: 0.6562, Validation Loss: 0.6403, Accuracy: 67.33%\n",
            "Number batch 1 of 1\n",
            "Epoch [13/10000], Loss: 0.6534, Validation Loss: 0.6384, Accuracy: 67.33%\n",
            "Number batch 1 of 1\n",
            "Epoch [14/10000], Loss: 0.6497, Validation Loss: 0.6364, Accuracy: 67.33%\n",
            "Number batch 1 of 1\n",
            "Epoch [15/10000], Loss: 0.6456, Validation Loss: 0.6344, Accuracy: 66.67%\n",
            "Number batch 1 of 1\n",
            "Epoch [16/10000], Loss: 0.6449, Validation Loss: 0.6340, Accuracy: 66.67%\n",
            "Number batch 1 of 1\n",
            "Epoch [17/10000], Loss: 0.6443, Validation Loss: 0.6336, Accuracy: 66.67%\n",
            "Number batch 1 of 1\n",
            "Epoch [18/10000], Loss: 0.6438, Validation Loss: 0.6332, Accuracy: 66.67%\n",
            "Number batch 1 of 1\n",
            "Epoch [19/10000], Loss: 0.6433, Validation Loss: 0.6329, Accuracy: 66.67%\n",
            "Number batch 1 of 1\n",
            "Epoch [20/10000], Loss: 0.6429, Validation Loss: 0.6325, Accuracy: 66.67%\n",
            "Number batch 1 of 1\n",
            "Epoch [21/10000], Loss: 0.6426, Validation Loss: 0.6321, Accuracy: 66.67%\n",
            "Number batch 1 of 1\n",
            "Epoch [22/10000], Loss: 0.6422, Validation Loss: 0.6318, Accuracy: 66.67%\n",
            "Number batch 1 of 1\n",
            "Epoch [23/10000], Loss: 0.6417, Validation Loss: 0.6314, Accuracy: 66.67%\n",
            "Number batch 1 of 1\n",
            "Epoch [24/10000], Loss: 0.6416, Validation Loss: 0.6313, Accuracy: 66.67%\n",
            "Number batch 1 of 1\n",
            "Epoch [25/10000], Loss: 0.6415, Validation Loss: 0.6312, Accuracy: 66.67%\n",
            "Number batch 1 of 1\n",
            "Epoch [26/10000], Loss: 0.6413, Validation Loss: 0.6311, Accuracy: 66.67%\n",
            "Number batch 1 of 1\n",
            "Epoch [27/10000], Loss: 0.6412, Validation Loss: 0.6310, Accuracy: 66.67%\n",
            "Number batch 1 of 1\n",
            "Epoch [28/10000], Loss: 0.6410, Validation Loss: 0.6310, Accuracy: 66.67%\n",
            "Number batch 1 of 1\n",
            "Epoch [29/10000], Loss: 0.6409, Validation Loss: 0.6309, Accuracy: 66.67%\n",
            "Number batch 1 of 1\n",
            "Epoch [30/10000], Loss: 0.6407, Validation Loss: 0.6308, Accuracy: 66.67%\n",
            "Number batch 1 of 1\n",
            "Epoch [31/10000], Loss: 0.6407, Validation Loss: 0.6308, Accuracy: 66.67%\n",
            "Number batch 1 of 1\n",
            "Epoch [32/10000], Loss: 0.6406, Validation Loss: 0.6308, Accuracy: 66.67%\n",
            "Number batch 1 of 1\n",
            "Epoch [33/10000], Loss: 0.6406, Validation Loss: 0.6307, Accuracy: 66.67%\n",
            "Number batch 1 of 1\n",
            "Epoch [34/10000], Loss: 0.6406, Validation Loss: 0.6307, Accuracy: 66.67%\n",
            "Number batch 1 of 1\n",
            "Epoch [35/10000], Loss: 0.6405, Validation Loss: 0.6307, Accuracy: 66.67%\n",
            "Number batch 1 of 1\n",
            "Epoch [36/10000], Loss: 0.6405, Validation Loss: 0.6307, Accuracy: 66.67%\n",
            "Number batch 1 of 1\n",
            "Epoch [37/10000], Loss: 0.6405, Validation Loss: 0.6307, Accuracy: 66.67%\n",
            "Number batch 1 of 1\n",
            "Epoch [38/10000], Loss: 0.6404, Validation Loss: 0.6307, Accuracy: 66.67%\n",
            "Number batch 1 of 1\n",
            "Epoch [39/10000], Loss: 0.6404, Validation Loss: 0.6307, Accuracy: 66.67%\n",
            "Number batch 1 of 1\n",
            "Epoch [40/10000], Loss: 0.6404, Validation Loss: 0.6306, Accuracy: 66.67%\n",
            "Number batch 1 of 1\n",
            "Epoch [41/10000], Loss: 0.6404, Validation Loss: 0.6306, Accuracy: 66.67%\n",
            "Number batch 1 of 1\n",
            "Epoch [42/10000], Loss: 0.6404, Validation Loss: 0.6306, Accuracy: 66.67%\n",
            "Number batch 1 of 1\n",
            "Epoch [43/10000], Loss: 0.6404, Validation Loss: 0.6306, Accuracy: 66.67%\n",
            "Number batch 1 of 1\n",
            "Epoch [44/10000], Loss: 0.6404, Validation Loss: 0.6306, Accuracy: 66.67%\n",
            "Number batch 1 of 1\n",
            "Epoch [45/10000], Loss: 0.6404, Validation Loss: 0.6306, Accuracy: 66.67%\n",
            "Number batch 1 of 1\n",
            "Epoch [46/10000], Loss: 0.6404, Validation Loss: 0.6306, Accuracy: 66.67%\n",
            "Number batch 1 of 1\n",
            "Epoch [47/10000], Loss: 0.6404, Validation Loss: 0.6306, Accuracy: 66.67%\n",
            "Number batch 1 of 1\n",
            "Epoch [48/10000], Loss: 0.6404, Validation Loss: 0.6306, Accuracy: 66.67%\n",
            "Number batch 1 of 1\n",
            "Epoch [49/10000], Loss: 0.6404, Validation Loss: 0.6306, Accuracy: 66.67%\n",
            "Number batch 1 of 1\n",
            "Epoch [50/10000], Loss: 0.6404, Validation Loss: 0.6306, Accuracy: 66.67%\n",
            "Number batch 1 of 1\n",
            "Epoch [51/10000], Loss: 0.6404, Validation Loss: 0.6306, Accuracy: 66.67%\n",
            "Number batch 1 of 1\n",
            "Epoch [52/10000], Loss: 0.6404, Validation Loss: 0.6306, Accuracy: 66.67%\n",
            "Number batch 1 of 1\n",
            "Epoch [53/10000], Loss: 0.6404, Validation Loss: 0.6306, Accuracy: 66.67%\n"
          ]
        },
        {
          "output_type": "error",
          "ename": "KeyboardInterrupt",
          "evalue": "ignored",
          "traceback": [
            "\u001b[0;31m---------------------------------------------------------------------------\u001b[0m",
            "\u001b[0;31mKeyboardInterrupt\u001b[0m                         Traceback (most recent call last)",
            "\u001b[0;32m<ipython-input-10-ff0e72b1e65d>\u001b[0m in \u001b[0;36m<cell line: 11>\u001b[0;34m()\u001b[0m\n\u001b[1;32m     16\u001b[0m     \u001b[0mtrain_loader_epoch\u001b[0m \u001b[0;34m=\u001b[0m \u001b[0mDataLoader\u001b[0m\u001b[0;34m(\u001b[0m\u001b[0mtrain_dataset\u001b[0m\u001b[0;34m,\u001b[0m \u001b[0mbatch_size\u001b[0m\u001b[0;34m=\u001b[0m\u001b[0mdynamic_batch_size\u001b[0m\u001b[0;34m,\u001b[0m \u001b[0mshuffle\u001b[0m\u001b[0;34m=\u001b[0m\u001b[0;32mTrue\u001b[0m\u001b[0;34m)\u001b[0m\u001b[0;34m\u001b[0m\u001b[0;34m\u001b[0m\u001b[0m\n\u001b[1;32m     17\u001b[0m     \u001b[0mlenTrainLoader\u001b[0m \u001b[0;34m=\u001b[0m \u001b[0mlen\u001b[0m\u001b[0;34m(\u001b[0m\u001b[0mtrain_loader_epoch\u001b[0m\u001b[0;34m)\u001b[0m\u001b[0;34m\u001b[0m\u001b[0;34m\u001b[0m\u001b[0m\n\u001b[0;32m---> 18\u001b[0;31m     \u001b[0;32mfor\u001b[0m \u001b[0mbatch\u001b[0m \u001b[0;32min\u001b[0m \u001b[0mtrain_loader_epoch\u001b[0m\u001b[0;34m:\u001b[0m\u001b[0;34m\u001b[0m\u001b[0;34m\u001b[0m\u001b[0m\n\u001b[0m\u001b[1;32m     19\u001b[0m         \u001b[0minput_save\u001b[0m\u001b[0;34m,\u001b[0m \u001b[0mlabel_save\u001b[0m \u001b[0;34m=\u001b[0m \u001b[0mbatch\u001b[0m\u001b[0;34m\u001b[0m\u001b[0;34m\u001b[0m\u001b[0m\n\u001b[1;32m     20\u001b[0m         \u001b[0;32mif\u001b[0m \u001b[0;32mnot\u001b[0m \u001b[0mtorch\u001b[0m\u001b[0;34m.\u001b[0m\u001b[0misnan\u001b[0m\u001b[0;34m(\u001b[0m\u001b[0minput_save\u001b[0m\u001b[0;34m.\u001b[0m\u001b[0munsqueeze\u001b[0m\u001b[0;34m(\u001b[0m\u001b[0;36m1\u001b[0m\u001b[0;34m)\u001b[0m\u001b[0;34m)\u001b[0m\u001b[0;34m.\u001b[0m\u001b[0many\u001b[0m\u001b[0;34m(\u001b[0m\u001b[0;34m)\u001b[0m\u001b[0;34m:\u001b[0m\u001b[0;34m\u001b[0m\u001b[0;34m\u001b[0m\u001b[0m\n",
            "\u001b[0;32m/usr/local/lib/python3.10/dist-packages/torch/utils/data/dataloader.py\u001b[0m in \u001b[0;36m__next__\u001b[0;34m(self)\u001b[0m\n\u001b[1;32m    628\u001b[0m                 \u001b[0;31m# TODO(https://github.com/pytorch/pytorch/issues/76750)\u001b[0m\u001b[0;34m\u001b[0m\u001b[0;34m\u001b[0m\u001b[0m\n\u001b[1;32m    629\u001b[0m                 \u001b[0mself\u001b[0m\u001b[0;34m.\u001b[0m\u001b[0m_reset\u001b[0m\u001b[0;34m(\u001b[0m\u001b[0;34m)\u001b[0m  \u001b[0;31m# type: ignore[call-arg]\u001b[0m\u001b[0;34m\u001b[0m\u001b[0;34m\u001b[0m\u001b[0m\n\u001b[0;32m--> 630\u001b[0;31m             \u001b[0mdata\u001b[0m \u001b[0;34m=\u001b[0m \u001b[0mself\u001b[0m\u001b[0;34m.\u001b[0m\u001b[0m_next_data\u001b[0m\u001b[0;34m(\u001b[0m\u001b[0;34m)\u001b[0m\u001b[0;34m\u001b[0m\u001b[0;34m\u001b[0m\u001b[0m\n\u001b[0m\u001b[1;32m    631\u001b[0m             \u001b[0mself\u001b[0m\u001b[0;34m.\u001b[0m\u001b[0m_num_yielded\u001b[0m \u001b[0;34m+=\u001b[0m \u001b[0;36m1\u001b[0m\u001b[0;34m\u001b[0m\u001b[0;34m\u001b[0m\u001b[0m\n\u001b[1;32m    632\u001b[0m             \u001b[0;32mif\u001b[0m \u001b[0mself\u001b[0m\u001b[0;34m.\u001b[0m\u001b[0m_dataset_kind\u001b[0m \u001b[0;34m==\u001b[0m \u001b[0m_DatasetKind\u001b[0m\u001b[0;34m.\u001b[0m\u001b[0mIterable\u001b[0m \u001b[0;32mand\u001b[0m\u001b[0;31m \u001b[0m\u001b[0;31m\\\u001b[0m\u001b[0;34m\u001b[0m\u001b[0;34m\u001b[0m\u001b[0m\n",
            "\u001b[0;32m/usr/local/lib/python3.10/dist-packages/torch/utils/data/dataloader.py\u001b[0m in \u001b[0;36m_next_data\u001b[0;34m(self)\u001b[0m\n\u001b[1;32m    672\u001b[0m     \u001b[0;32mdef\u001b[0m \u001b[0m_next_data\u001b[0m\u001b[0;34m(\u001b[0m\u001b[0mself\u001b[0m\u001b[0;34m)\u001b[0m\u001b[0;34m:\u001b[0m\u001b[0;34m\u001b[0m\u001b[0;34m\u001b[0m\u001b[0m\n\u001b[1;32m    673\u001b[0m         \u001b[0mindex\u001b[0m \u001b[0;34m=\u001b[0m \u001b[0mself\u001b[0m\u001b[0;34m.\u001b[0m\u001b[0m_next_index\u001b[0m\u001b[0;34m(\u001b[0m\u001b[0;34m)\u001b[0m  \u001b[0;31m# may raise StopIteration\u001b[0m\u001b[0;34m\u001b[0m\u001b[0;34m\u001b[0m\u001b[0m\n\u001b[0;32m--> 674\u001b[0;31m         \u001b[0mdata\u001b[0m \u001b[0;34m=\u001b[0m \u001b[0mself\u001b[0m\u001b[0;34m.\u001b[0m\u001b[0m_dataset_fetcher\u001b[0m\u001b[0;34m.\u001b[0m\u001b[0mfetch\u001b[0m\u001b[0;34m(\u001b[0m\u001b[0mindex\u001b[0m\u001b[0;34m)\u001b[0m  \u001b[0;31m# may raise StopIteration\u001b[0m\u001b[0;34m\u001b[0m\u001b[0;34m\u001b[0m\u001b[0m\n\u001b[0m\u001b[1;32m    675\u001b[0m         \u001b[0;32mif\u001b[0m \u001b[0mself\u001b[0m\u001b[0;34m.\u001b[0m\u001b[0m_pin_memory\u001b[0m\u001b[0;34m:\u001b[0m\u001b[0;34m\u001b[0m\u001b[0;34m\u001b[0m\u001b[0m\n\u001b[1;32m    676\u001b[0m             \u001b[0mdata\u001b[0m \u001b[0;34m=\u001b[0m \u001b[0m_utils\u001b[0m\u001b[0;34m.\u001b[0m\u001b[0mpin_memory\u001b[0m\u001b[0;34m.\u001b[0m\u001b[0mpin_memory\u001b[0m\u001b[0;34m(\u001b[0m\u001b[0mdata\u001b[0m\u001b[0;34m,\u001b[0m \u001b[0mself\u001b[0m\u001b[0;34m.\u001b[0m\u001b[0m_pin_memory_device\u001b[0m\u001b[0;34m)\u001b[0m\u001b[0;34m\u001b[0m\u001b[0;34m\u001b[0m\u001b[0m\n",
            "\u001b[0;32m/usr/local/lib/python3.10/dist-packages/torch/utils/data/_utils/fetch.py\u001b[0m in \u001b[0;36mfetch\u001b[0;34m(self, possibly_batched_index)\u001b[0m\n\u001b[1;32m     49\u001b[0m                 \u001b[0mdata\u001b[0m \u001b[0;34m=\u001b[0m \u001b[0mself\u001b[0m\u001b[0;34m.\u001b[0m\u001b[0mdataset\u001b[0m\u001b[0;34m.\u001b[0m\u001b[0m__getitems__\u001b[0m\u001b[0;34m(\u001b[0m\u001b[0mpossibly_batched_index\u001b[0m\u001b[0;34m)\u001b[0m\u001b[0;34m\u001b[0m\u001b[0;34m\u001b[0m\u001b[0m\n\u001b[1;32m     50\u001b[0m             \u001b[0;32melse\u001b[0m\u001b[0;34m:\u001b[0m\u001b[0;34m\u001b[0m\u001b[0;34m\u001b[0m\u001b[0m\n\u001b[0;32m---> 51\u001b[0;31m                 \u001b[0mdata\u001b[0m \u001b[0;34m=\u001b[0m \u001b[0;34m[\u001b[0m\u001b[0mself\u001b[0m\u001b[0;34m.\u001b[0m\u001b[0mdataset\u001b[0m\u001b[0;34m[\u001b[0m\u001b[0midx\u001b[0m\u001b[0;34m]\u001b[0m \u001b[0;32mfor\u001b[0m \u001b[0midx\u001b[0m \u001b[0;32min\u001b[0m \u001b[0mpossibly_batched_index\u001b[0m\u001b[0;34m]\u001b[0m\u001b[0;34m\u001b[0m\u001b[0;34m\u001b[0m\u001b[0m\n\u001b[0m\u001b[1;32m     52\u001b[0m         \u001b[0;32melse\u001b[0m\u001b[0;34m:\u001b[0m\u001b[0;34m\u001b[0m\u001b[0;34m\u001b[0m\u001b[0m\n\u001b[1;32m     53\u001b[0m             \u001b[0mdata\u001b[0m \u001b[0;34m=\u001b[0m \u001b[0mself\u001b[0m\u001b[0;34m.\u001b[0m\u001b[0mdataset\u001b[0m\u001b[0;34m[\u001b[0m\u001b[0mpossibly_batched_index\u001b[0m\u001b[0;34m]\u001b[0m\u001b[0;34m\u001b[0m\u001b[0;34m\u001b[0m\u001b[0m\n",
            "\u001b[0;32m/usr/local/lib/python3.10/dist-packages/torch/utils/data/_utils/fetch.py\u001b[0m in \u001b[0;36m<listcomp>\u001b[0;34m(.0)\u001b[0m\n\u001b[1;32m     49\u001b[0m                 \u001b[0mdata\u001b[0m \u001b[0;34m=\u001b[0m \u001b[0mself\u001b[0m\u001b[0;34m.\u001b[0m\u001b[0mdataset\u001b[0m\u001b[0;34m.\u001b[0m\u001b[0m__getitems__\u001b[0m\u001b[0;34m(\u001b[0m\u001b[0mpossibly_batched_index\u001b[0m\u001b[0;34m)\u001b[0m\u001b[0;34m\u001b[0m\u001b[0;34m\u001b[0m\u001b[0m\n\u001b[1;32m     50\u001b[0m             \u001b[0;32melse\u001b[0m\u001b[0;34m:\u001b[0m\u001b[0;34m\u001b[0m\u001b[0;34m\u001b[0m\u001b[0m\n\u001b[0;32m---> 51\u001b[0;31m                 \u001b[0mdata\u001b[0m \u001b[0;34m=\u001b[0m \u001b[0;34m[\u001b[0m\u001b[0mself\u001b[0m\u001b[0;34m.\u001b[0m\u001b[0mdataset\u001b[0m\u001b[0;34m[\u001b[0m\u001b[0midx\u001b[0m\u001b[0;34m]\u001b[0m \u001b[0;32mfor\u001b[0m \u001b[0midx\u001b[0m \u001b[0;32min\u001b[0m \u001b[0mpossibly_batched_index\u001b[0m\u001b[0;34m]\u001b[0m\u001b[0;34m\u001b[0m\u001b[0;34m\u001b[0m\u001b[0m\n\u001b[0m\u001b[1;32m     52\u001b[0m         \u001b[0;32melse\u001b[0m\u001b[0;34m:\u001b[0m\u001b[0;34m\u001b[0m\u001b[0;34m\u001b[0m\u001b[0m\n\u001b[1;32m     53\u001b[0m             \u001b[0mdata\u001b[0m \u001b[0;34m=\u001b[0m \u001b[0mself\u001b[0m\u001b[0;34m.\u001b[0m\u001b[0mdataset\u001b[0m\u001b[0;34m[\u001b[0m\u001b[0mpossibly_batched_index\u001b[0m\u001b[0;34m]\u001b[0m\u001b[0;34m\u001b[0m\u001b[0;34m\u001b[0m\u001b[0m\n",
            "\u001b[0;32m<ipython-input-6-52bf2179450a>\u001b[0m in \u001b[0;36m__getitem__\u001b[0;34m(self, idx)\u001b[0m\n\u001b[1;32m     40\u001b[0m \u001b[0;34m\u001b[0m\u001b[0m\n\u001b[1;32m     41\u001b[0m         \u001b[0;31m# Extract MFCC features\u001b[0m\u001b[0;34m\u001b[0m\u001b[0;34m\u001b[0m\u001b[0m\n\u001b[0;32m---> 42\u001b[0;31m         \u001b[0mmfcc\u001b[0m \u001b[0;34m=\u001b[0m \u001b[0mlibrosa\u001b[0m\u001b[0;34m.\u001b[0m\u001b[0mfeature\u001b[0m\u001b[0;34m.\u001b[0m\u001b[0mmfcc\u001b[0m\u001b[0;34m(\u001b[0m\u001b[0my\u001b[0m\u001b[0;34m=\u001b[0m\u001b[0mwaveform\u001b[0m\u001b[0;34m,\u001b[0m \u001b[0msr\u001b[0m\u001b[0;34m=\u001b[0m\u001b[0msample_rate\u001b[0m\u001b[0;34m,\u001b[0m \u001b[0mn_mfcc\u001b[0m\u001b[0;34m=\u001b[0m\u001b[0;36m13\u001b[0m\u001b[0;34m,\u001b[0m \u001b[0mwin_length\u001b[0m \u001b[0;34m=\u001b[0m \u001b[0;36m400\u001b[0m\u001b[0;34m,\u001b[0m \u001b[0mn_fft\u001b[0m\u001b[0;34m=\u001b[0m\u001b[0;36m512\u001b[0m\u001b[0;34m,\u001b[0m \u001b[0mhop_length\u001b[0m\u001b[0;34m=\u001b[0m\u001b[0;36m30\u001b[0m\u001b[0;34m)\u001b[0m\u001b[0;34m\u001b[0m\u001b[0;34m\u001b[0m\u001b[0m\n\u001b[0m\u001b[1;32m     43\u001b[0m         \u001b[0mmfcc\u001b[0m \u001b[0;34m=\u001b[0m \u001b[0;36m2\u001b[0m \u001b[0;34m*\u001b[0m \u001b[0;34m(\u001b[0m\u001b[0mmfcc\u001b[0m \u001b[0;34m-\u001b[0m \u001b[0mmfcc\u001b[0m\u001b[0;34m.\u001b[0m\u001b[0mmin\u001b[0m\u001b[0;34m(\u001b[0m\u001b[0;34m)\u001b[0m\u001b[0;34m)\u001b[0m \u001b[0;34m/\u001b[0m \u001b[0;34m(\u001b[0m\u001b[0mmfcc\u001b[0m\u001b[0;34m.\u001b[0m\u001b[0mmax\u001b[0m\u001b[0;34m(\u001b[0m\u001b[0;34m)\u001b[0m \u001b[0;34m-\u001b[0m \u001b[0mmfcc\u001b[0m\u001b[0;34m.\u001b[0m\u001b[0mmin\u001b[0m\u001b[0;34m(\u001b[0m\u001b[0;34m)\u001b[0m\u001b[0;34m)\u001b[0m \u001b[0;34m-\u001b[0m \u001b[0;36m1\u001b[0m\u001b[0;34m\u001b[0m\u001b[0;34m\u001b[0m\u001b[0m\n\u001b[1;32m     44\u001b[0m         \u001b[0;31m#mfcc = (mfcc - mfcc.min()) / (mfcc.max() - mfcc.min())\u001b[0m\u001b[0;34m\u001b[0m\u001b[0;34m\u001b[0m\u001b[0m\n",
            "\u001b[0;32m/usr/local/lib/python3.10/dist-packages/librosa/feature/spectral.py\u001b[0m in \u001b[0;36mmfcc\u001b[0;34m(y, sr, S, n_mfcc, dct_type, norm, lifter, **kwargs)\u001b[0m\n\u001b[1;32m   1989\u001b[0m         \u001b[0mS\u001b[0m \u001b[0;34m=\u001b[0m \u001b[0mpower_to_db\u001b[0m\u001b[0;34m(\u001b[0m\u001b[0mmelspectrogram\u001b[0m\u001b[0;34m(\u001b[0m\u001b[0my\u001b[0m\u001b[0;34m=\u001b[0m\u001b[0my\u001b[0m\u001b[0;34m,\u001b[0m \u001b[0msr\u001b[0m\u001b[0;34m=\u001b[0m\u001b[0msr\u001b[0m\u001b[0;34m,\u001b[0m \u001b[0;34m**\u001b[0m\u001b[0mkwargs\u001b[0m\u001b[0;34m)\u001b[0m\u001b[0;34m)\u001b[0m\u001b[0;34m\u001b[0m\u001b[0;34m\u001b[0m\u001b[0m\n\u001b[1;32m   1990\u001b[0m \u001b[0;34m\u001b[0m\u001b[0m\n\u001b[0;32m-> 1991\u001b[0;31m     M: np.ndarray = scipy.fftpack.dct(S, axis=-2, type=dct_type, norm=norm)[\n\u001b[0m\u001b[1;32m   1992\u001b[0m         \u001b[0;34m...\u001b[0m\u001b[0;34m,\u001b[0m \u001b[0;34m:\u001b[0m\u001b[0mn_mfcc\u001b[0m\u001b[0;34m,\u001b[0m \u001b[0;34m:\u001b[0m\u001b[0;34m\u001b[0m\u001b[0;34m\u001b[0m\u001b[0m\n\u001b[1;32m   1993\u001b[0m     ]\n",
            "\u001b[0;32m/usr/local/lib/python3.10/dist-packages/scipy/fftpack/_realtransforms.py\u001b[0m in \u001b[0;36mdct\u001b[0;34m(x, type, n, axis, norm, overwrite_x)\u001b[0m\n\u001b[1;32m    378\u001b[0m \u001b[0;34m\u001b[0m\u001b[0m\n\u001b[1;32m    379\u001b[0m     \"\"\"\n\u001b[0;32m--> 380\u001b[0;31m     \u001b[0;32mreturn\u001b[0m \u001b[0m_pocketfft\u001b[0m\u001b[0;34m.\u001b[0m\u001b[0mdct\u001b[0m\u001b[0;34m(\u001b[0m\u001b[0mx\u001b[0m\u001b[0;34m,\u001b[0m \u001b[0mtype\u001b[0m\u001b[0;34m,\u001b[0m \u001b[0mn\u001b[0m\u001b[0;34m,\u001b[0m \u001b[0maxis\u001b[0m\u001b[0;34m,\u001b[0m \u001b[0mnorm\u001b[0m\u001b[0;34m,\u001b[0m \u001b[0moverwrite_x\u001b[0m\u001b[0;34m)\u001b[0m\u001b[0;34m\u001b[0m\u001b[0;34m\u001b[0m\u001b[0m\n\u001b[0m\u001b[1;32m    381\u001b[0m \u001b[0;34m\u001b[0m\u001b[0m\n\u001b[1;32m    382\u001b[0m \u001b[0;34m\u001b[0m\u001b[0m\n",
            "\u001b[0;32m/usr/local/lib/python3.10/dist-packages/scipy/fft/_pocketfft/realtransforms.py\u001b[0m in \u001b[0;36m_r2r\u001b[0;34m(forward, transform, x, type, n, axis, norm, overwrite_x, workers, orthogonalize)\u001b[0m\n\u001b[1;32m     44\u001b[0m         \u001b[0;32mreturn\u001b[0m \u001b[0mout\u001b[0m\u001b[0;34m\u001b[0m\u001b[0;34m\u001b[0m\u001b[0m\n\u001b[1;32m     45\u001b[0m \u001b[0;34m\u001b[0m\u001b[0m\n\u001b[0;32m---> 46\u001b[0;31m     \u001b[0;32mreturn\u001b[0m \u001b[0mtransform\u001b[0m\u001b[0;34m(\u001b[0m\u001b[0mtmp\u001b[0m\u001b[0;34m,\u001b[0m \u001b[0mtype\u001b[0m\u001b[0;34m,\u001b[0m \u001b[0;34m(\u001b[0m\u001b[0maxis\u001b[0m\u001b[0;34m,\u001b[0m\u001b[0;34m)\u001b[0m\u001b[0;34m,\u001b[0m \u001b[0mnorm\u001b[0m\u001b[0;34m,\u001b[0m \u001b[0mout\u001b[0m\u001b[0;34m,\u001b[0m \u001b[0mworkers\u001b[0m\u001b[0;34m,\u001b[0m \u001b[0morthogonalize\u001b[0m\u001b[0;34m)\u001b[0m\u001b[0;34m\u001b[0m\u001b[0;34m\u001b[0m\u001b[0m\n\u001b[0m\u001b[1;32m     47\u001b[0m \u001b[0;34m\u001b[0m\u001b[0m\n\u001b[1;32m     48\u001b[0m \u001b[0;34m\u001b[0m\u001b[0m\n",
            "\u001b[0;31mKeyboardInterrupt\u001b[0m: "
          ]
        }
      ],
      "source": [
        "# Training loop\n",
        "#max_grad_norm = 100000000.0\n",
        "dynamic_batch_size = 598\n",
        "from torch.nn.utils import clip_grad_norm_\n",
        "import torch\n",
        "from torch.utils.data import DataLoader\n",
        "from torch.utils.tensorboard import SummaryWriter\n",
        "import os\n",
        "\n",
        "\n",
        "for epoch in range(num_epochs):\n",
        "    model.train()\n",
        "    i=0\n",
        "\n",
        "      # Set your initial batch size\n",
        "    train_loader_epoch = DataLoader(train_dataset, batch_size=dynamic_batch_size, shuffle=True)\n",
        "    lenTrainLoader = len(train_loader_epoch)\n",
        "    for batch in train_loader_epoch:\n",
        "        input_save, label_save = batch\n",
        "        if not torch.isnan(input_save.unsqueeze(1)).any():\n",
        "          inputs, labels = batch\n",
        "          inputs, labels = inputs.to(device), labels.to(device)\n",
        "\n",
        "          # Zero the gradients\n",
        "          optimizer.zero_grad()\n",
        "\n",
        "          # Forward pass\n",
        "          outputs = model(inputs)\n",
        "          #outputs = torch.sigmoid(outputs)\n",
        "          #if i%1 == 0 or i==0:\n",
        "            #print(labels.unsqueeze(1))\n",
        "            #print(\"#######################################################\")\n",
        "          #print(outputs)\n",
        "          #print(labels.long())\n",
        "            #print(labels)\n",
        "            #print(\"#######################################################\")\n",
        "          print(\"Number batch \" + str(i+1) + \" of \" + str(lenTrainLoader))\n",
        "          #if math.isnan(outputs):\n",
        "          #  print(input_save)\n",
        "          # Calculate the loss\n",
        "          loss = criterion(outputs, labels.long())\n",
        "\n",
        "\n",
        "\n",
        "          # Backward pass\n",
        "          loss.backward()\n",
        "          #clip_grad_norm_(model.parameters(), max_grad_norm)\n",
        "\n",
        "          # Update weights\n",
        "          optimizer.step()\n",
        "\n",
        "          i += 1\n",
        "\n",
        "    # Validation loop\n",
        "    model.eval()\n",
        "    val_loss = 0.0\n",
        "    correct = 0\n",
        "    total = 0\n",
        "\n",
        "    with torch.no_grad():\n",
        "        for batch in val_loader:\n",
        "            inputs, labels = batch\n",
        "            inputs, labels = inputs.to(device), labels.to(device)\n",
        "\n",
        "            # Forward pass\n",
        "            outputs = model(inputs)\n",
        "            #outputs = torch.sigmoid(outputs)\n",
        "\n",
        "            # Calculate the loss\n",
        "            #loss = criterion(outputs, labels.long())\n",
        "            loss = criterion(outputs, labels.long())\n",
        "            val_loss += loss.item()\n",
        "\n",
        "            # Accuracy calculation\n",
        "            predicted = torch.argmax(outputs, dim=1)\n",
        "            #predicted = torch.round(outputs)\n",
        "            total += labels.size(0)\n",
        "            correct += (predicted == labels.unsqueeze(1)).sum().item()\n",
        "\n",
        "    average_val_loss = val_loss / len(val_loader)\n",
        "    accuracy = correct / total\n",
        "    lr_scheduler.step()\n",
        "    print(f'Epoch [{epoch + 1}/{num_epochs}], Loss: {loss.item():.4f}, Validation Loss: {average_val_loss:.4f}, Accuracy: {accuracy * 100:.2f}%')\n",
        "    # Append values to the existing lists\n",
        "    trainingloss_per_epoch.append(loss.cpu().item())\n",
        "    validationloss_per_epoch.append(average_val_loss)\n",
        "    accuracy_per_epoch.append(accuracy)\n",
        "    np.savetxt('/content/drive/My Drive/mfcc_ANN_repeated_ang/training_loss.csv', trainingloss_per_epoch, delimiter=',')\n",
        "    np.savetxt('/content/drive/My Drive/mfcc_ANN_repeated_ang/validation_loss.csv', validationloss_per_epoch, delimiter=',')\n",
        "    np.savetxt('/content/drive/My Drive/mfcc_ANN_repeated_ang/accuracy.csv', accuracy_per_epoch, delimiter=',')\n",
        "    # Learning rate scheduling\n",
        "    lr_scheduler.step()\n",
        "\n",
        "\n",
        "    # Early stopping\n",
        "    if average_val_loss < best_val_loss:\n",
        "        torch.save(model.state_dict(), '/content/drive/My Drive/mfcc_ANN_repeated_ang/CNN_PAPER.pth')\n",
        "\n",
        "        #if dynamic_batch_size*1.5<598:\n",
        "        #  dynamic_batch_size = int(dynamic_batch_size*1.5)\n",
        "        best_val_loss = average_val_loss\n",
        "        counter_no_improve = 0\n",
        "    else:\n",
        "        counter_no_improve += 1\n",
        "\n",
        "    #if counter_no_improve >= patience:\n",
        "    #    print(f'Early stopping! No improvement for {patience} consecutive epochs.')\n",
        "    #    break\n",
        "print('Training finished.')"
      ]
    },
    {
      "cell_type": "code",
      "execution_count": null,
      "metadata": {
        "id": "Pk7hEHpYq65w",
        "colab": {
          "base_uri": "https://localhost:8080/"
        },
        "outputId": "aab3f082-0667-4448-c994-9f8cc193e4df"
      },
      "outputs": [
        {
          "output_type": "stream",
          "name": "stdout",
          "text": [
            "0 / 188\n",
            "100 / 188\n",
            "Test Loss: 0.6041, Test Accuracy: 0.7978723404255319, Angry Detection Percentage: 0.3617021276595745\n"
          ]
        }
      ],
      "source": [
        "model.load_state_dict(torch.load('/content/drive/My Drive/mfcc_ANN_repeated_ang/CNN_PAPER.pth', map_location=torch.device('cpu')))\n",
        "model.eval()  # Set the model to evaluation mode\n",
        "\n",
        "test_loss = 0.0\n",
        "correct = 0\n",
        "total = 0\n",
        "angry_detected = 0\n",
        "\n",
        "with torch.no_grad():\n",
        "    i = 0\n",
        "    len_test = len(test_loader)\n",
        "    for batch in test_loader:  # Assuming you have a DataLoader for your test set\n",
        "        inputs, labels = batch\n",
        "        inputs, labels = inputs.to(device), labels.to(device)\n",
        "        if i % 100 == 0:\n",
        "            print(str(i) + \" / \" + str(len_test))\n",
        "        i += 1\n",
        "\n",
        "        # Forward pass\n",
        "        probs = model(inputs)\n",
        "        loss = criterion(probs, labels.long())  # Use .long() for integer labels in CrossEntropyLoss\n",
        "        test_loss += loss.item()\n",
        "\n",
        "        # Accuracy calculation\n",
        "        predicted = torch.argmax(probs, dim=1)\n",
        "        total += labels.size(0)\n",
        "        correct += (predicted == labels).sum().item()\n",
        "\n",
        "        # Angry detection calculation\n",
        "        angry_detected += ((predicted == 1) & (labels == 1)).sum().item()\n",
        "\n",
        "average_test_loss = test_loss / len(test_loader)\n",
        "accuracy = correct / total\n",
        "angry_det_percentage = angry_detected / total\n",
        "\n",
        "print(f'Test Loss: {average_test_loss:.4f}, Test Accuracy: {accuracy}, Angry Detection Percentage: {angry_det_percentage}')\n"
      ]
    },
    {
      "cell_type": "code",
      "execution_count": null,
      "metadata": {
        "id": "nnlfMzXc1RxD",
        "colab": {
          "base_uri": "https://localhost:8080/",
          "height": 410
        },
        "outputId": "97bf79dc-f6eb-447d-da04-95d5870ea380"
      },
      "outputs": [
        {
          "output_type": "display_data",
          "data": {
            "text/plain": [
              "<Figure size 800x400 with 1 Axes>"
            ],
            "image/png": "[encoded data removed]"
          },
          "metadata": {}
        }
      ],
      "source": [
        "import numpy as np\n",
        "import matplotlib.pyplot as plt\n",
        "\n",
        "# Load the data from the CSV file\n",
        "accuracy_per_epoch = np.loadtxt('/content/drive/My Drive/mfcc_ANN_repeated_ang/accuracy.csv', delimiter=',')\n",
        "# Load the data from the CSV files\n",
        "validation_loss_per_epoch = np.loadtxt('/content/drive/My Drive/mfcc_ANN_repeated_ang/validation_loss.csv', delimiter=',')\n",
        "trainingloss_per_epoch = np.loadtxt('/content/drive/My Drive/mfcc_ANN_repeated_ang/training_loss.csv', delimiter=',')\n",
        "\n",
        "# Plot for Validation Loss\n",
        "plt.figure(figsize=(8, 4))\n",
        "plt.plot(validation_loss_per_epoch, label='Validation Loss', color='red', linestyle='--')\n",
        "plt.xlabel('Epoch')\n",
        "plt.ylabel('Validation Loss')\n",
        "plt.title('Validation Loss per Epoch')\n",
        "plt.legend()\n",
        "plt.show()"
      ]
    },
    {
      "cell_type": "code",
      "execution_count": null,
      "metadata": {
        "id": "FOts7pCUhxTL",
        "colab": {
          "base_uri": "https://localhost:8080/",
          "height": 410
        },
        "outputId": "3049975c-1453-44f5-e638-11a09e21d5bb"
      },
      "outputs": [
        {
          "output_type": "display_data",
          "data": {
            "text/plain": [
              "<Figure size 800x400 with 1 Axes>"
            ],
            "image/png": "[encoded data removed]"
          },
          "metadata": {}
        }
      ],
      "source": [
        "# Plot for Accuracy\n",
        "plt.figure(figsize=(8, 4))\n",
        "plt.plot(accuracy_per_epoch, label='Accuracy', color='blue', linestyle='-')\n",
        "plt.xlabel('Epoch')\n",
        "plt.ylabel('Accuracy')\n",
        "plt.title('Accuracy per Epoch')\n",
        "plt.legend()\n",
        "plt.show()"
      ]
    },
    {
      "cell_type": "code",
      "source": [
        "# Plot the data using the index as the x-axis values\n",
        "plt.plot(trainingloss_per_epoch)\n",
        "plt.xlabel('Epoch')\n",
        "plt.ylabel('Trainingsloss')\n",
        "plt.title('Trainingsloss per Epoch')\n",
        "plt.show()"
      ],
      "metadata": {
        "colab": {
          "base_uri": "https://localhost:8080/",
          "height": 472
        },
        "id": "GMKI5lXscbq8",
        "outputId": "0292b52b-2a43-4cf3-c0e4-837f93f84d84"
      },
      "execution_count": null,
      "outputs": [
        {
          "output_type": "display_data",
          "data": {
            "text/plain": [
              "<Figure size 640x480 with 1 Axes>"
            ],
            "image/png": "[encoded data removed]"
          },
          "metadata": {}
        }
      ]
    }
  ],
  "metadata": {
    "colab": {
      "provenance": [],
      "include_colab_link": true
    },
    "kernelspec": {
      "display_name": "Python 3",
      "name": "python3"
    },
    "language_info": {
      "name": "python"
    }
  },
  "nbformat": 4,
  "nbformat_minor": 0
}